{
 "cells": [
  {
   "cell_type": "code",
   "execution_count": 1,
   "metadata": {},
   "outputs": [],
   "source": [
    "import pandas as pd\n",
    "import torch\n",
    "import pickle\n",
    "from datetime import datetime\n",
    "from src.utils.ontology_utils import load_ontology\n",
    "from src.data_pipeline.data_loader import load_filtered_cell_metadata\n",
    "from src.data_pipeline.preprocess_ontology import preprocess_data_ontology\n",
    "from src.utils.paths import PROJECT_ROOT\n",
    "from src.utils.ontology_utils import get_sub_DAG"
   ]
  },
  {
   "cell_type": "code",
   "execution_count": 2,
   "metadata": {},
   "outputs": [
    {
     "name": "stdout",
     "output_type": "stream",
     "text": [
      "Loading cached ontology from /Users/jzhao/dev/Welch-lab/McCell/data/processed/ontology.pkl...\n",
      "Ontology loaded successfully.\n",
      "Total cell types including root: 708\n",
      "Term('CL:0000816', name='immature B cell')\n",
      "Term('CL:0000928', name='activated CD4-negative, CD8-negative type I NK T cell')\n",
      "Term('CL:2000001', name='peripheral blood mononuclear cell')\n",
      "Term('CL:0000042', name='neutrophilic myeloblast')\n",
      "Term('CL:0009048', name='anorectum macrophage')\n"
     ]
    }
   ],
   "source": [
    "# 1. Load the cached ontology object\n",
    "cl = load_ontology()\n",
    "\n",
    "# Define the root of the ontology subgraph to be processed\n",
    "root_cl_id = 'CL:0000988'  # hematopoietic cell\n",
    "\n",
    "cell_types = get_sub_DAG(cl, root_cl_id)\n",
    "print(f\"Total cell types including root: {len(cell_types)}\")\n",
    "for t in list(cell_types)[:5]:\n",
    "    print(t)\n"
   ]
  },
  {
   "cell_type": "code",
   "execution_count": 4,
   "metadata": {},
   "outputs": [
    {
     "name": "stdout",
     "output_type": "stream",
     "text": [
      "Fetching descendants of CL:0000988...\n",
      "Connecting to CellXGene Census...\n"
     ]
    },
    {
     "name": "stderr",
     "output_type": "stream",
     "text": [
      "The \"stable\" release is currently 2025-01-30. Specify 'census_version=\"2025-01-30\"' in future calls to open_soma() to ensure data consistency.\n"
     ]
    },
    {
     "name": "stdout",
     "output_type": "stream",
     "text": [
      "Reading cell metadata to filter cell types...\n",
      "Found 160 cell types with > 5000 cells.\n",
      "Querying for final cell metadata...\n",
      "Finished loading and filtering cell metadata.\n",
      "Starting ontology preprocessing...\n",
      "Preprocessing complete. Found 41 leaf values and 100 internal values.\n"
     ]
    }
   ],
   "source": [
    "\n",
    "# 2. Load filtered cell metadata from CellXGene Census\n",
    "cell_obs_metadata = load_filtered_cell_metadata(cl, root_cl_id=root_cl_id)\n",
    "\n",
    "# 3. Preprocess the ontology and cell data\n",
    "target_column = 'cell_type_ontology_term_id'\n",
    "\n",
    "print(\"Starting ontology preprocessing...\")\n",
    "mapping_dict, leaf_values, internal_values, ontology_df, cell_parent_mask = preprocess_data_ontology(\n",
    "        cl, cell_obs_metadata, target_column,\n",
    "        upper_limit=root_cl_id,\n",
    "        cl_only=True, include_leafs=False\n",
    "    )\n",
    "\n",
    "print(f\"Preprocessing complete. Found {len(leaf_values)} leaf values and {len(internal_values)} internal values.\")"
   ]
  },
  {
   "cell_type": "code",
   "execution_count": 5,
   "metadata": {},
   "outputs": [
    {
     "name": "stdout",
     "output_type": "stream",
     "text": [
      "Cell Parent Mask:\n",
      "tensor([[1., 1., 1.,  ..., 1., 1., 1.],\n",
      "        [1., 1., 0.,  ..., 1., 1., 1.],\n",
      "        [0., 1., 1.,  ..., 0., 0., 1.],\n",
      "        ...,\n",
      "        [1., 1., 1.,  ..., 1., 1., 1.],\n",
      "        [1., 1., 1.,  ..., 1., 1., 1.],\n",
      "        [1., 1., 1.,  ..., 1., 1., 1.]])\n"
     ]
    }
   ],
   "source": [
    "print(\"Cell Parent Mask:\")\n",
    "print(cell_parent_mask)"
   ]
  },
  {
   "cell_type": "code",
   "execution_count": 8,
   "metadata": {},
   "outputs": [
    {
     "name": "stdout",
     "output_type": "stream",
     "text": [
      "Found blood cell term: CL:0000081\n",
      "Found 42 blood cell subclasses.\n",
      "\n",
      "Subclass: neutrophil (CL:0000775)\n",
      "Parent mask:\n",
      "tensor([1., 0., 1., 0., 1., 1., 1., 1., 1., 1., 0., 1., 1., 1., 1., 1., 0., 1.,\n",
      "        1., 1., 1., 1., 1., 1., 1., 1., 1., 1., 1., 1., 1., 0., 0., 1., 1., 0.,\n",
      "        1., 1., 1., 1., 1., 1., 1., 1., 1., 1., 1., 1., 1., 1., 1., 1., 1., 1.,\n",
      "        1., 1., 1., 1., 1., 1., 1., 1., 1., 1., 1., 1., 1., 1., 1., 1., 1., 1.,\n",
      "        1., 1., 0., 1., 1., 1., 1., 1., 1., 1., 1., 1., 1., 1., 1., 1., 1., 1.,\n",
      "        1., 1., 1., 0., 1., 1., 1., 1., 1., 1., 1., 1., 1., 1., 1., 1., 1., 1.,\n",
      "        1., 1., 1., 1., 1.])\n",
      "\n",
      "Subclass: erythrocyte (CL:0000232)\n",
      "Parent mask:\n",
      "tensor([1., 0., 1., 1., 1., 1., 1., 1., 1., 1., 1., 1., 1., 1., 1., 1., 0., 1.,\n",
      "        0., 1., 1., 1., 1., 1., 1., 1., 1., 1., 1., 1., 1., 1., 0., 0., 1., 1.,\n",
      "        1., 1., 1., 1., 1., 1., 1., 1., 1., 1., 1., 1., 1., 1., 1., 1., 1., 1.,\n",
      "        1., 1., 1., 1., 1., 1., 1., 1., 1., 1., 1., 1., 1., 1., 1., 1., 1., 1.,\n",
      "        1., 1., 0., 1., 1., 1., 1., 1., 1., 1., 1., 1., 1., 1., 1., 1., 1., 1.,\n",
      "        1., 1., 1., 1., 1., 1., 1., 1., 1., 1., 1., 1., 1., 1., 1., 1., 1., 1.,\n",
      "        1., 1., 1., 1., 1.])\n",
      "\n",
      "Subclass: platelet (CL:0000233)\n",
      "Parent mask:\n",
      "tensor([1., 0., 1., 1., 1., 1., 1., 1., 1., 0., 1., 0., 1., 1., 1., 1., 0., 1.,\n",
      "        1., 1., 1., 0., 0., 1., 1., 1., 1., 1., 1., 1., 1., 1., 0., 1., 1., 1.,\n",
      "        1., 1., 1., 1., 1., 1., 1., 1., 1., 1., 1., 1., 1., 1., 1., 1., 1., 1.,\n",
      "        1., 1., 1., 1., 1., 1., 1., 1., 1., 1., 1., 1., 1., 1., 1., 1., 1., 1.,\n",
      "        1., 1., 0., 1., 1., 1., 1., 1., 1., 1., 1., 1., 1., 1., 1., 1., 1., 1.,\n",
      "        1., 1., 1., 1., 1., 1., 1., 1., 1., 1., 1., 1., 1., 1., 1., 1., 1., 1.,\n",
      "        1., 1., 1., 1., 1.])\n",
      "\n",
      "Subclass: granulocyte (CL:0000094)\n",
      "Parent mask:\n",
      "tensor([1., 0., 1., 0., 1., 1., 1., 1., 1., 1., 0., 1., 1., 1., 1., 1., 0., 1.,\n",
      "        1., 1., 1., 1., 1., 1., 1., 1., 1., 1., 1., 1., 1., 0., 0., 1., 1., 0.,\n",
      "        1., 1., 1., 1., 1., 1., 1., 1., 1., 1., 1., 1., 1., 1., 1., 1., 1., 1.,\n",
      "        1., 1., 1., 1., 1., 1., 1., 1., 1., 1., 1., 1., 1., 1., 1., 1., 1., 1.,\n",
      "        1., 1., 0., 1., 1., 1., 1., 1., 1., 1., 1., 1., 1., 1., 1., 1., 1., 1.,\n",
      "        1., 1., 1., 0., 1., 1., 1., 1., 1., 1., 1., 1., 1., 1., 1., 1., 1., 1.,\n",
      "        1., 1., 1., 1., 1.])\n",
      "\n",
      "Subclass: basophil (CL:0000767)\n",
      "Parent mask:\n",
      "tensor([1., 0., 1., 0., 1., 1., 1., 1., 1., 1., 0., 1., 1., 1., 1., 1., 0., 1.,\n",
      "        1., 1., 1., 1., 1., 1., 1., 1., 1., 1., 1., 1., 1., 0., 0., 1., 1., 0.,\n",
      "        1., 1., 1., 1., 1., 1., 1., 1., 1., 1., 1., 1., 1., 1., 1., 1., 1., 1.,\n",
      "        1., 1., 1., 1., 1., 1., 1., 1., 1., 1., 1., 1., 1., 1., 1., 1., 1., 1.,\n",
      "        1., 1., 0., 1., 1., 1., 1., 1., 1., 1., 1., 1., 1., 1., 1., 1., 1., 1.,\n",
      "        1., 1., 1., 0., 1., 1., 1., 1., 1., 1., 1., 1., 1., 1., 1., 1., 1., 1.,\n",
      "        1., 1., 1., 1., 1.])\n",
      "\n",
      "Subclass: blood cell (CL:0000081)\n",
      "Parent mask:\n",
      "tensor([1., 0., 1., 1., 1., 1., 1., 1., 1., 1., 1., 1., 1., 1., 1., 1., 1., 1.,\n",
      "        1., 1., 1., 1., 1., 1., 1., 1., 1., 1., 1., 1., 1., 1., 1., 1., 1., 1.,\n",
      "        1., 1., 1., 1., 1., 1., 1., 1., 1., 1., 1., 1., 1., 1., 1., 1., 1., 1.,\n",
      "        1., 1., 1., 1., 1., 1., 1., 1., 1., 1., 1., 1., 1., 1., 1., 1., 1., 1.,\n",
      "        1., 1., 0., 1., 1., 1., 1., 1., 1., 1., 1., 1., 1., 1., 1., 1., 1., 1.,\n",
      "        1., 1., 1., 1., 1., 1., 1., 1., 1., 1., 1., 1., 1., 1., 1., 1., 1., 1.,\n",
      "        1., 1., 1., 1., 1.])\n"
     ]
    }
   ],
   "source": [
    "\n",
    "reverse_mapping_dict = {v: k for k, v in mapping_dict.items()}\n",
    "\n",
    "blood_cell_term = None\n",
    "for term in cl.terms():\n",
    "    if term.name == 'blood cell':\n",
    "        blood_cell_term = term\n",
    "        break\n",
    "\n",
    "if blood_cell_term:\n",
    "    print(f\"Found blood cell term: {blood_cell_term.id}\")\n",
    "    # Get all subclasses of blood cell\n",
    "    blood_cell_subclasses = list(blood_cell_term.subclasses())\n",
    "    print(f\"Found {len(blood_cell_subclasses)} blood cell subclasses.\")\n",
    "\n",
    "    # Print the parent mask for each subclass\n",
    "    for i in range(cell_parent_mask.shape[1]):\n",
    "        cell_id = reverse_mapping_dict.get(i)  # leaf nodes\n",
    "        if not cell_id:\n",
    "            cell_id = reverse_mapping_dict.get(i - len(leaf_values) + INTERNAL_NODE_ENCODING_START)  # internal nodes\n",
    "\n",
    "        if cell_id in [subclass.id for subclass in blood_cell_subclasses]:\n",
    "            term = cl[cell_id]\n",
    "            parent_mask = cell_parent_mask[:, i]\n",
    "            print(f\"\\nSubclass: {term.name} ({term.id})\")\n",
    "            print(f\"Parent mask:\\n{parent_mask}\")\n",
    "else:\n",
    "    print(\"Blood cell not found in the ontology.\")"
   ]
  }
 ],
 "metadata": {
  "kernelspec": {
   "display_name": "McCell",
   "language": "python",
   "name": "python3"
  },
  "language_info": {
   "codemirror_mode": {
    "name": "ipython",
    "version": 3
   },
   "file_extension": ".py",
   "mimetype": "text/x-python",
   "name": "python",
   "nbconvert_exporter": "python",
   "pygments_lexer": "ipython3",
   "version": "3.11.13"
  }
 },
 "nbformat": 4,
 "nbformat_minor": 4
}
