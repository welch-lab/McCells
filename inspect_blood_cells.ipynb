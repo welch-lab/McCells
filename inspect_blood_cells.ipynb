{
 "cells": [
  {
   "cell_type": "code",
   "execution_count": 2,
   "metadata": {},
   "outputs": [],
   "source": [
    "import pandas as pd\n",
    "import torch\n",
    "import pickle\n",
    "from datetime import datetime\n",
    "from src.utils.ontology_utils import load_ontology\n",
    "from src.data_pipeline.data_loader import load_filtered_cell_metadata\n",
    "from src.data_pipeline.preprocess_ontology import preprocess_data_ontology\n",
    "from src.utils.paths import PROJECT_ROOT\n",
    "from src.utils.ontology_utils import get_sub_DAG"
   ]
  },
  {
   "cell_type": "code",
   "execution_count": 3,
   "metadata": {},
   "outputs": [
    {
     "name": "stdout",
     "output_type": "stream",
     "text": [
      "Loading cached ontology from /Users/jzhao/dev/Welch-lab/McCell/data/processed/ontology.pkl...\n",
      "Ontology loaded successfully.\n",
      "Total cell types including root: 708\n",
      "Term('CL:0000845', name='marginal zone B cell of spleen')\n",
      "Term('CL:0001077', name='ILC1, human')\n",
      "Term('CL:0001080', name='NKp44-negative group 3 innate lymphoid cell, human')\n",
      "Term('CL:4033076', name='cycling macrophage')\n",
      "Term('CL:0009112', name='centroblast')\n"
     ]
    }
   ],
   "source": [
    "# 1. Load the cached ontology object\n",
    "cl = load_ontology()\n",
    "\n",
    "# Define the root of the ontology subgraph to be processed\n",
    "root_cl_id = 'CL:0000988'  # hematopoietic cell\n",
    "\n",
    "cell_types = get_sub_DAG(cl, root_cl_id)\n",
    "print(f\"Total cell types including root: {len(cell_types)}\")\n",
    "for t in list(cell_types)[:5]:\n",
    "    print(t)\n"
   ]
  },
  {
   "cell_type": "code",
   "execution_count": 4,
   "metadata": {},
   "outputs": [
    {
     "name": "stdout",
     "output_type": "stream",
     "text": [
      "Fetching descendants of CL:0000988...\n",
      "Connecting to CellXGene Census...\n"
     ]
    },
    {
     "name": "stderr",
     "output_type": "stream",
     "text": [
      "The \"stable\" release is currently 2025-01-30. Specify 'census_version=\"2025-01-30\"' in future calls to open_soma() to ensure data consistency.\n"
     ]
    },
    {
     "name": "stdout",
     "output_type": "stream",
     "text": [
      "Reading cell metadata to filter cell types...\n",
      "Found 160 cell types with > 5000 cells.\n",
      "Querying for final cell metadata...\n",
      "Finished loading and filtering cell metadata.\n",
      "Loaded cell metadata with 6383545 cells and 3 metadata fields.\n",
      "Metadata columns: ['cell_type_ontology_term_id', 'assay', 'is_primary_data']\n",
      "Starting ontology preprocessing...\n",
      "Preprocessing complete. Found 41 leaf values and 100 internal values.\n"
     ]
    }
   ],
   "source": [
    "\n",
    "# 2. Load filtered cell metadata from CellXGene Census\n",
    "cell_obs_metadata = load_filtered_cell_metadata(cl, root_cl_id=root_cl_id)\n",
    "print(f\"Loaded cell metadata with {cell_obs_metadata.shape[0]} cells and {cell_obs_metadata.shape[1]} metadata fields.\")\n",
    "print(\"Metadata columns:\", cell_obs_metadata.columns.tolist())\n",
    "# 3. Preprocess the ontology and cell data\n",
    "target_column = 'cell_type_ontology_term_id'\n",
    "\n",
    "print(\"Starting ontology preprocessing...\")\n",
    "mapping_dict, leaf_values, internal_values, ontology_df, cell_children_mask = preprocess_data_ontology(\n",
    "        cl, cell_obs_metadata, target_column,\n",
    "        upper_limit=root_cl_id,\n",
    "        cl_only=True, include_leafs=False\n",
    "    )\n",
    "\n",
    "print(f\"Preprocessing complete. Found {len(leaf_values)} leaf values and {len(internal_values)} internal values.\")"
   ]
  },
  {
   "cell_type": "code",
   "execution_count": 5,
   "metadata": {},
   "outputs": [
    {
     "name": "stdout",
     "output_type": "stream",
     "text": [
      "Cell Parent Mask:\n",
      "tensor([[0., 1., 1.,  ..., 1., 1., 1.],\n",
      "        [1., 0., 0.,  ..., 1., 1., 0.],\n",
      "        [1., 1., 0.,  ..., 1., 1., 1.],\n",
      "        ...,\n",
      "        [1., 1., 1.,  ..., 0., 1., 1.],\n",
      "        [1., 1., 1.,  ..., 1., 0., 1.],\n",
      "        [1., 1., 1.,  ..., 1., 1., 0.]])\n",
      "torch.Size([141, 141])\n"
     ]
    }
   ],
   "source": [
    "print(\"Cell Parent Mask:\")\n",
    "print(cell_children_mask)\n",
    "print(cell_children_mask.shape)"
   ]
  },
  {
   "cell_type": "code",
   "execution_count": 6,
   "metadata": {},
   "outputs": [
    {
     "name": "stdout",
     "output_type": "stream",
     "text": [
      "{0: 'CL:0000814', 1: 'CL:0000763', 2: 'CL:0000775', 3: 'CL:0000097', 4: 'CL:0000786', 5: 'CL:0000236', 6: 'CL:0000232', 7: 'CL:0000233', 8: 'CL:0000451', 9: 'CL:0000084', 10: 'CL:0000235', 11: 'CL:0000576', 12: 'CL:0000094', 13: 'CL:0000878', 14: 'CL:0000738', 15: 'CL:0000129', 16: 'CL:0000542', 17: 'CL:0000766', 18: 'CL:0001082', 19: 'CL:0000838', 20: 'CL:0000817', 21: 'CL:0002355', 22: 'CL:0002045', 23: 'CL:0000559', 24: 'CL:0000816', 25: 'CL:0001054', 26: 'CL:0000826', 27: 'CL:0000836', 28: 'CL:0000837', 29: 'CL:0000557', 30: 'CL:0000556', 31: 'CL:0000788', 32: 'CL:0000938', 33: 'CL:0000936', 34: 'CL:0000049', 35: 'CL:0000784', 36: 'CL:0000624', 37: 'CL:0000767', 38: 'CL:0000860', 39: 'CL:0000782', 40: 'CL:0000904', 41: 'CL:0000909', 42: 'CL:0000875', 43: 'CL:0000623', 44: 'CL:0000895', 45: 'CL:0000905', 46: 'CL:0000787', 47: 'CL:0000900', 48: 'CL:0000798', 49: 'CL:0000980', 50: 'CL:0001062', 51: 'CL:0001044', 52: 'CL:0000625', 53: 'CL:0001050', 54: 'CL:0002393', 55: 'CL:0000492', 56: 'CL:0000081', 57: 'CL:0000113', 58: 'CL:0000583', 59: 'CL:0000939', 60: 'CL:0000764', 61: 'CL:0000988', 62: 'CL:0000910', 63: 'CL:0001065', 64: 'CL:0000987', 65: 'CL:0000985', 66: 'CL:0000890', 67: 'CL:0000863', 68: 'CL:0000827', 69: 'CL:0000794', 70: 'CL:0000990', 71: 'CL:0000037', 72: 'CL:0000913', 73: 'CL:0000934', 74: 'CL:0001058', 75: 'CL:0000815', 76: 'CL:0000818', 77: 'CL:0001043', 78: 'CL:0001049', 79: 'CL:0000940', 80: 'CL:0000898', 81: 'CL:0000051', 82: 'CL:0000038', 83: 'CL:0000050', 84: 'CL:0000765', 85: 'CL:0000893', 86: 'CL:0000091', 87: 'CL:0000912', 88: 'CL:0000899', 89: 'CL:0000453', 90: 'CL:0002489', 91: 'CL:0002046', 92: 'CL:0000785', 93: 'CL:0002496', 94: 'CL:1001603', 95: 'CL:0001056', 96: 'CL:0000791', 97: 'CL:0002396', 98: 'CL:0001203', 99: 'CL:0000792', 100: 'CL:4033039', 101: 'CL:0000810', 102: 'CL:0002399', 103: 'CL:0000811', 104: 'CL:2000054', 105: 'CL:0000914', 106: 'CL:0008001', 107: 'CL:0002057', 108: 'CL:1000695', 109: 'CL:0000809', 110: 'CL:0000790', 111: 'CL:0002193', 112: 'CL:4033043', 113: 'CL:0002048', 114: 'CL:0000550', 115: 'CL:0000954', 116: 'CL:0000957', 117: 'CL:0000907', 118: 'CL:0002397', 119: 'CL:0000549', 120: 'CL:0002032', 121: 'CL:0001071', 122: 'CL:0000915', 123: 'CL:0000897', 124: 'CL:0000789', 125: 'CL:0000906', 126: 'CL:0000903', 127: 'CL:0000813', 128: 'CL:0000896', 129: 'CL:0002038', 130: 'CL:0000844', 131: 'CL:0002343', 132: 'CL:0001078', 133: 'CL:3000001', 134: 'CL:0000972', 135: 'CL:0000970', 136: 'CL:0002629', 137: 'CL:0002419', 138: 'CL:0000800', 139: 'CL:0000917', 140: 'CL:0000861'}\n",
      "Found hematopoietic cell term: CL:0000988\n",
      "Found 708 blood cell subclasses.\n",
      "Index of blood cell in mapping dict: 61\n",
      "Mask row for blood cell:\n",
      "tensor([0., 0., 0., 0., 0., 0., 0., 0., 0., 0., 0., 0., 0., 0., 0., 0., 0., 0., 0., 0., 0., 0., 0., 0.,\n",
      "        0., 0., 0., 0., 0., 0., 0., 0., 0., 0., 0., 0., 0., 0., 0., 0., 0., 0., 0., 0., 0., 0., 0., 0.,\n",
      "        0., 0., 0., 0., 0., 0., 0., 0., 0., 0., 0., 0., 0., 0., 0., 0., 0., 0., 0., 0., 0., 0., 0., 0.,\n",
      "        0., 0., 0., 0., 0., 0., 0., 0., 0., 0., 0., 0., 0., 0., 0., 0., 0., 0., 0., 0., 0., 0., 0., 0.,\n",
      "        0., 0., 0., 0., 0., 0., 0., 0., 0., 0., 0., 0., 0., 0., 0., 0., 0., 0., 0., 0., 0., 0., 0., 0.,\n",
      "        0., 0., 0., 0., 0., 0., 0., 0., 0., 0., 0., 0., 0., 0., 0., 0., 0., 0., 0., 0., 0.])\n"
     ]
    }
   ],
   "source": [
    "\n",
    "reverse_mapping_dict = {v: k for k, v in mapping_dict.items()}\n",
    "print(reverse_mapping_dict)\n",
    "\n",
    "blood_cell_term = None\n",
    "for term in cl.terms():\n",
    "    if term.id == 'CL:0000988':\n",
    "        blood_cell_term = term\n",
    "        break\n",
    "\n",
    "if blood_cell_term:\n",
    "    print(f\"Found {blood_cell_term.name} term: {blood_cell_term.id}\")\n",
    "    # Get all subclasses of blood cell\n",
    "    blood_cell_subclasses = list(blood_cell_term.subclasses())\n",
    "    print(f\"Found {len(blood_cell_subclasses)} blood cell subclasses.\")\n",
    "\n",
    "    #print some masks\n",
    "    root_index = mapping_dict.get('CL:0000988', None)\n",
    "    if root_index is not None:\n",
    "        print(f\"Index of blood cell in mapping dict: {root_index}\")\n",
    "        print(\"Mask row for blood cell:\")\n",
    "        print(cell_children_mask[root_index])\n",
    "else:\n",
    "    print(\"Blood cell not found in the ontology.\")"
   ]
  },
  {
   "cell_type": "code",
   "execution_count": null,
   "metadata": {},
   "outputs": [
    {
     "name": "stdout",
     "output_type": "stream",
     "text": [
      "Verifying leaf node: platelet (CL:0000233)\n",
      "\n",
      "Parent mask for platelet:\n",
      "tensor([1., 1., 1., 1., 1., 1., 1., 0., 1., 1., 1., 1., 1., 1., 1., 1., 1., 1.,\n",
      "        1., 1., 1., 1., 1., 1., 1., 1., 1., 1., 1., 1., 1., 1., 1., 1., 1., 1.,\n",
      "        1., 1., 1., 1., 1., 1., 1., 1., 1., 1., 1., 1., 1., 1., 1., 1., 1., 1.,\n",
      "        1., 1., 1., 1., 1., 1., 1., 1., 1., 1., 1., 1., 1., 1., 1., 1., 1., 1.,\n",
      "        1., 1., 1., 1., 1., 1., 1., 1., 1., 1., 1., 1., 1., 1., 1., 1., 1., 1.,\n",
      "        1., 1., 1., 1., 1., 1., 1., 1., 1., 1., 1., 1., 1., 1., 1., 1., 1., 1.,\n",
      "        1., 1., 1., 1., 1., 1., 1., 1., 1., 1., 1., 1., 1., 1., 1., 1., 1., 1.,\n",
      "        1., 1., 1., 1., 1., 1., 1., 1., 1., 1., 1., 1., 1., 1., 1.])\n",
      "CL:0000814 mature NK T cell\n",
      "False\n",
      "\n",
      "Parent mask for platelet:\n",
      "tensor([0., 1., 1., 1., 1., 1., 1., 1., 1., 1., 1., 1., 1., 1., 1., 1., 1., 1.,\n",
      "        1., 1., 1., 1., 1., 1., 1., 1., 1., 1., 1., 1., 1., 1., 1., 1., 1., 1.,\n",
      "        1., 1., 1., 1., 1., 1., 1., 1., 1., 1., 1., 1., 1., 1., 1., 1., 1., 1.,\n",
      "        1., 1., 1., 1., 1., 1., 1., 1., 1., 1., 1., 1., 1., 1., 1., 1., 1., 1.,\n",
      "        1., 1., 1., 1., 1., 1., 1., 1., 1., 1., 1., 1., 1., 1., 1., 1., 1., 1.,\n",
      "        1., 1., 1., 1., 1., 1., 1., 1., 1., 1., 1., 1., 1., 1., 1., 1., 1., 1.,\n",
      "        1., 1., 1., 1., 1., 1., 1., 1., 1., 1., 1., 1., 1., 1., 1., 1., 1., 1.,\n",
      "        1., 1., 1., 1., 1., 1., 1., 1., 1., 1., 1., 1., 1., 1., 1.])\n",
      "Subclasses of mature NK T cell: ['mature NK T cell', 'type I NK T cell', 'type II NK T cell', 'mature NK T cell, human', 'CD4-positive type I NK T cell', 'CD4-negative, CD8-negative type I NK T cell', 'activated type II NK T cell', 'type II NK T cell secreting interferon-gamma', 'type II NK T cell secreting interleukin-4', 'activated CD4-positive type I NK T cell', 'CD4-positive type I NK T cell secreting interferon-gamma', 'CD4-positive type I NK T cell secreting interleukin-4', 'activated CD4-negative, CD8-negative type I NK T cell', 'CD4-negative, CD8-negative type I NK T cell secreting interferon-gamma', 'CD4-negative, CD8-negative type I NK T cell secreting interleukin-4']\n",
      "mature NK T cell: CL:0000814, index: 0\n",
      "type I NK T cell: CL:0000921, index: Not found\n",
      "type II NK T cell: CL:0000922, index: Not found\n",
      "mature NK T cell, human: CL:4052055, index: Not found\n",
      "CD4-positive type I NK T cell: CL:0000923, index: Not found\n",
      "CD4-negative, CD8-negative type I NK T cell: CL:0000924, index: Not found\n",
      "activated type II NK T cell: CL:0000931, index: Not found\n",
      "type II NK T cell secreting interferon-gamma: CL:0000932, index: Not found\n",
      "type II NK T cell secreting interleukin-4: CL:0000933, index: Not found\n",
      "activated CD4-positive type I NK T cell: CL:0000925, index: Not found\n",
      "CD4-positive type I NK T cell secreting interferon-gamma: CL:0000926, index: Not found\n",
      "CD4-positive type I NK T cell secreting interleukin-4: CL:0000927, index: Not found\n",
      "activated CD4-negative, CD8-negative type I NK T cell: CL:0000928, index: Not found\n",
      "CD4-negative, CD8-negative type I NK T cell secreting interferon-gamma: CL:0000929, index: Not found\n",
      "CD4-negative, CD8-negative type I NK T cell secreting interleukin-4: CL:0000930, index: Not found\n"
     ]
    }
   ],
   "source": [
    "leaf_node_id = leaf_values[0]  # Let's pick the first one\n",
    "leaf_node_term = cl[leaf_node_id]\n",
    "print(f\"Verifying leaf node: {leaf_node_term.name} ({leaf_node_id})\")\n",
    "\n",
    "# 2. Get the index for this node\n",
    "leaf_node_index = mapping_dict[leaf_node_id]\n",
    "\n",
    "# 3. Get the mask for this node\n",
    "cell_mask_for_node = cell_children_mask[leaf_node_index]\n",
    "\n",
    "# 4. Print the mask\n",
    "print(f\"\\nParent mask for {leaf_node_term.name}:\")\n",
    "print(cell_mask_for_node)\n",
    "\n",
    "# oth index looks a bit weird, let's print it out\n",
    "print(reverse_mapping_dict[0], cl[reverse_mapping_dict[0]].name)\n",
    "print(reverse_mapping_dict[0] in leaf_node_id)\n",
    "cell_mask_for_node = cell_children_mask[0]\n",
    "\n",
    "# 4. Print the mask\n",
    "print(f\"\\nParent mask for {leaf_node_term.name}:\")\n",
    "print(cell_mask_for_node)\n",
    "\n",
    "# print subclass of index 0\n",
    "print(f\"Subclasses of {cl[reverse_mapping_dict[0]].name}: {[subclass.name for subclass in cl[reverse_mapping_dict[0]].subclasses()]}\")\n",
    "# print index of subclasses\n",
    "for subclass in cl[reverse_mapping_dict[0]].subclasses():\n",
    "    print(f\"{subclass.name}: {subclass.id} -> {mapping_dict.get(subclass.id, 'Not found')}\")"
   ]
  },
  {
   "cell_type": "code",
   "execution_count": 13,
   "metadata": {},
   "outputs": [
    {
     "name": "stdout",
     "output_type": "stream",
     "text": [
      "Verifying internal node: monocyte (CL:0000576)\n",
      "6 masked-out parents indices: [1, 11, 14, 17, 57, 61]\n",
      "\n",
      "Masked-out parents for monocyte:\n",
      "- myeloid cell (CL:0000763)\n",
      "- monocyte (CL:0000576)\n",
      "- leukocyte (CL:0000738)\n",
      "- myeloid leukocyte (CL:0000766)\n",
      "- mononuclear phagocyte (CL:0000113)\n",
      "- hematopoietic cell (CL:0000988)\n",
      "\n",
      "Actual children of monocyte:\n",
      "- monocyte (CL:0000576)\n",
      "- classical monocyte (CL:0000860)\n",
      "- non-classical monocyte (CL:0000875)\n",
      "- CD115-positive monocyte (CL:0001022)\n",
      "- CD14-positive monocyte (CL:0001054)\n",
      "- intermediate monocyte (CL:0002393)\n",
      "- cycling monocyte (CL:4033073)\n",
      "- BAG3-positive monocyte (CL:4047060)\n",
      "- CD14-positive, CD16-negative classical monocyte (CL:0002057)\n",
      "- Gr1-high classical monocyte (CL:0002395)\n",
      "- Gr1-low non-classical monocyte (CL:0002058)\n",
      "- CD14-low, CD16-positive monocyte (CL:0002396)\n",
      "- Gr1-positive, CD43-positive monocyte (CL:0002398)\n",
      "- CD14-positive, CD16-positive monocyte (CL:0002397)\n",
      "- CD14-positive, CD16-low monocyte (CL:0001055)\n",
      "- MHC-II-negative classical monocyte (CL:0002469)\n",
      "- MHC-II-positive classical monocyte (CL:0002470)\n",
      "- MHC-II-negative non-classical monocyte (CL:0002471)\n",
      "- MHC-II-low non-classical monocyte (CL:0002472)\n",
      "- MHC-II-high non-classical monocyte (CL:0002473)\n",
      "- lymphoid MHC-II-negative classical monocyte (CL:0002474)\n",
      "- lymphoid MHC-II-negative non-classical monocyte (CL:0002475)\n"
     ]
    }
   ],
   "source": [
    "# 1. Pick an internal node\n",
    "internal_node_id = internal_values[10] # Picking the 10th internal node for variety\n",
    "internal_node_term = cl[internal_node_id]\n",
    "print(f\"Verifying internal node: {internal_node_term.name} ({internal_node_id})\")\n",
    "\n",
    "# 2. Get the parent mask for this node\n",
    "internal_node_index = mapping_dict[internal_node_id]\n",
    "parent_mask_for_node = cell_parent_mask[:, internal_node_index]\n",
    "\n",
    "# 3. Find the indices where the mask is 0\n",
    "zero_indices = (parent_mask_for_node == 0).nonzero(as_tuple=True)[0]\n",
    "print(len(zero_indices), \"masked-out parents indices:\", zero_indices.tolist())\n",
    "\n",
    "# 4. Convert those indices to parent CL terms\n",
    "masked_out_parents = ontology_df.index[zero_indices].tolist()\n",
    "print(f\"\\nMasked-out parents for {internal_node_term.name}:\")\n",
    "for parent_id in masked_out_parents:\n",
    "    print(f\"- {cl[parent_id].name} ({parent_id})\")\n",
    "\n",
    "# 5. Get the children of the internal node from the ontology\n",
    "children_of_node = [term.id for term in internal_node_term.subclasses(with_self=True)]\n",
    "print(f\"\\nActual children of {internal_node_term.name}:\")\n",
    "for child_id in children_of_node:\n",
    "    if child_id in cl:\n",
    "        print(f\"- {cl[child_id].name} ({child_id})\")"
   ]
  }
 ],
 "metadata": {
  "kernelspec": {
   "display_name": "McCell",
   "language": "python",
   "name": "python3"
  },
  "language_info": {
   "codemirror_mode": {
    "name": "ipython",
    "version": 3
   },
   "file_extension": ".py",
   "mimetype": "text/x-python",
   "name": "python",
   "nbconvert_exporter": "python",
   "pygments_lexer": "ipython3",
   "version": "3.11.13"
  }
 },
 "nbformat": 4,
 "nbformat_minor": 4
}
