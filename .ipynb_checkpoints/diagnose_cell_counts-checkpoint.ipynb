{
 "cells": [
  {
   "cell_type": "markdown",
   "id": "cell-0",
   "metadata": {},
   "source": [
    "# Diagnostic: Cell Count Investigation\n",
    "Testing different query filters progressively to see where cells are being lost"
   ]
  },
  {
   "cell_type": "code",
   "execution_count": 1,
   "id": "cell-1",
   "metadata": {},
   "outputs": [
    {
     "name": "stdout",
     "output_type": "stream",
     "text": [
      "Opening CellXGene Census...\n"
     ]
    },
    {
     "name": "stderr",
     "output_type": "stream",
     "text": [
      "The \"stable\" release is currently 2025-01-30. Specify 'census_version=\"2025-01-30\"' in future calls to open_soma() to ensure data consistency.\n"
     ]
    }
   ],
   "source": [
    "import cellxgene_census\n",
    "import pandas as pd\n",
    "from src.utils.paths import get_data_folder\n",
    "import pickle\n",
    "\n",
    "print(\"Opening CellXGene Census...\")\n",
    "census = cellxgene_census.open_soma()"
   ]
  },
  {
   "cell_type": "code",
   "execution_count": 2,
   "id": "cell-2",
   "metadata": {},
   "outputs": [
    {
     "name": "stdout",
     "output_type": "stream",
     "text": [
      "Loaded 80 cell types from preprocessed data\n",
      "First 10: ['CL:0000233', 'CL:0000895', 'CL:0000900', 'CL:0000904', 'CL:0000905', 'CL:0000910', 'CL:0000912', 'CL:0000913', 'CL:0000938', 'CL:0000939']\n"
     ]
    }
   ],
   "source": [
    "# Load our cell types from the preprocessed data\n",
    "DATE = '2025-10-24'\n",
    "PROCESSED_DATA_DIR = get_data_folder(DATE)\n",
    "\n",
    "mapping_dict_df = pd.read_csv(PROCESSED_DATA_DIR / f\"{DATE}_mapping_dict_df.csv\", index_col=0)\n",
    "mapping_dict = pd.Series(mapping_dict_df.iloc[:, 0].values, index=mapping_dict_df.index).to_dict()\n",
    "all_cell_values = list(mapping_dict.keys())\n",
    "\n",
    "print(f\"Loaded {len(all_cell_values)} cell types from preprocessed data\")\n",
    "print(f\"First 10: {all_cell_values[:10]}\")"
   ]
  },
  {
   "cell_type": "markdown",
   "id": "cell-3",
   "metadata": {},
   "source": [
    "## Test 1: No filters at all"
   ]
  },
  {
   "cell_type": "code",
   "execution_count": 3,
   "id": "cell-4",
   "metadata": {},
   "outputs": [
    {
     "name": "stdout",
     "output_type": "stream",
     "text": [
      "Query 1: No filters (all human cells)\n",
      "Total cells in census: 106,118,167\n",
      "Unique cell types: 819\n",
      "\n",
      "Assay distribution (top 10):\n",
      "assay\n",
      "10x 3' v3                              59668147\n",
      "10x 3' v2                              22750589\n",
      "10x 5' v1                               7448617\n",
      "sci-RNA-seq3                            5064268\n",
      "10x 5' v2                               4363694\n",
      "10x 5' transcription profiling          1968545\n",
      "Drop-seq                                1048377\n",
      "ScaleBio single cell RNA sequencing      700524\n",
      "10x 3' transcription profiling           665642\n",
      "microwell-seq                            642559\n",
      "Name: count, dtype: int64\n"
     ]
    }
   ],
   "source": [
    "experiment = census[\"census_data\"][\"homo_sapiens\"]\n",
    "\n",
    "print(\"Query 1: No filters (all human cells)\")\n",
    "obs_all = experiment.obs.read(\n",
    "    column_names=[\"cell_type_ontology_term_id\", \"assay\", \"is_primary_data\"]\n",
    ").concat().to_pandas()\n",
    "\n",
    "print(f\"Total cells in census: {len(obs_all):,}\")\n",
    "print(f\"Unique cell types: {obs_all['cell_type_ontology_term_id'].nunique()}\")\n",
    "print(f\"\\nAssay distribution (top 10):\")\n",
    "print(obs_all['assay'].value_counts().head(10))"
   ]
  },
  {
   "cell_type": "markdown",
   "id": "cell-5",
   "metadata": {},
   "source": [
    "## Test 2: Filter by assay only"
   ]
  },
  {
   "cell_type": "code",
   "execution_count": 4,
   "id": "cell-6",
   "metadata": {},
   "outputs": [
    {
     "name": "stdout",
     "output_type": "stream",
     "text": [
      "Query 2: Only 10x 3' v3 assay\n",
      "Cells with 10x 3' v3: 59,668,147\n",
      "Unique cell types: 647\n",
      "\n",
      "is_primary_data distribution:\n",
      "is_primary_data\n",
      "True     31806345\n",
      "False    27861802\n",
      "Name: count, dtype: int64\n"
     ]
    }
   ],
   "source": [
    "print(\"Query 2: Only 10x 3' v3 assay\")\n",
    "obs_10x = experiment.obs.read(\n",
    "    value_filter='assay == \"10x 3\\' v3\"',\n",
    "    column_names=[\"cell_type_ontology_term_id\", \"assay\", \"is_primary_data\"]\n",
    ").concat().to_pandas()\n",
    "\n",
    "print(f\"Cells with 10x 3' v3: {len(obs_10x):,}\")\n",
    "print(f\"Unique cell types: {obs_10x['cell_type_ontology_term_id'].nunique()}\")\n",
    "print(f\"\\nis_primary_data distribution:\")\n",
    "print(obs_10x['is_primary_data'].value_counts())"
   ]
  },
  {
   "cell_type": "markdown",
   "id": "cell-7",
   "metadata": {},
   "source": [
    "## Test 3: Filter by assay + primary data"
   ]
  },
  {
   "cell_type": "code",
   "execution_count": 5,
   "id": "cell-8",
   "metadata": {},
   "outputs": [
    {
     "name": "stdout",
     "output_type": "stream",
     "text": [
      "Query 3: 10x 3' v3 + primary data\n",
      "Cells with 10x 3' v3 + primary: 31,806,345\n",
      "Unique cell types: 625\n",
      "\n",
      "Top 20 cell types by count:\n",
      "cell_type_ontology_term_id\n",
      "CL:0000540    3118306\n",
      "CL:0000128    2632680\n",
      "CL:4023040    1734499\n",
      "CL:0000604    1141897\n",
      "CL:0000057     920759\n",
      "CL:0000127     622607\n",
      "unknown        619217\n",
      "CL:0000084     611902\n",
      "CL:0000235     569955\n",
      "CL:0000679     562975\n",
      "CL:0001064     494267\n",
      "CL:0002453     436454\n",
      "CL:0000837     401866\n",
      "CL:0008001     397378\n",
      "CL:0000236     396007\n",
      "CL:0000681     386723\n",
      "CL:0000746     367438\n",
      "CL:0000576     366274\n",
      "CL:0000115     362173\n",
      "CL:0000129     333041\n",
      "Name: count, dtype: int64\n"
     ]
    }
   ],
   "source": [
    "print(\"Query 3: 10x 3' v3 + primary data\")\n",
    "obs_10x_primary = experiment.obs.read(\n",
    "    value_filter='assay == \"10x 3\\' v3\" and is_primary_data == True',\n",
    "    column_names=[\"cell_type_ontology_term_id\"]\n",
    ").concat().to_pandas()\n",
    "\n",
    "print(f\"Cells with 10x 3' v3 + primary: {len(obs_10x_primary):,}\")\n",
    "print(f\"Unique cell types: {obs_10x_primary['cell_type_ontology_term_id'].nunique()}\")\n",
    "\n",
    "# Count cells per type\n",
    "cell_type_counts = obs_10x_primary['cell_type_ontology_term_id'].value_counts()\n",
    "print(f\"\\nTop 20 cell types by count:\")\n",
    "print(cell_type_counts.head(20))"
   ]
  },
  {
   "cell_type": "markdown",
   "id": "cell-9",
   "metadata": {},
   "source": [
    "## Test 4: Filter by our specific cell types"
   ]
  },
  {
   "cell_type": "code",
   "execution_count": 6,
   "id": "cell-10",
   "metadata": {},
   "outputs": [
    {
     "name": "stdout",
     "output_type": "stream",
     "text": [
      "Query 4: 10x 3' v3 + primary + our 80 cell types\n",
      "Cells matching our cell types: 6,292,764\n",
      "Unique cell types found: 80\n",
      "\n",
      "Top 20 of our cell types by count:\n",
      "cell_type_ontology_term_id\n",
      "CL:0000084    611902\n",
      "CL:0000235    569955\n",
      "CL:0000837    401866\n",
      "CL:0008001    397378\n",
      "CL:0000236    396007\n",
      "CL:0000576    366274\n",
      "CL:0000129    333041\n",
      "CL:0000624    222571\n",
      "CL:0000878    209648\n",
      "CL:0000625    200909\n",
      "CL:0000623    183013\n",
      "CL:0000786    155558\n",
      "CL:0000763    153171\n",
      "CL:0000583    129513\n",
      "CL:0000860    117822\n",
      "CL:1001603    115074\n",
      "CL:0000895    109263\n",
      "CL:0000775    106218\n",
      "CL:0000542    100359\n",
      "CL:0000814     82147\n",
      "Name: count, dtype: int64\n"
     ]
    }
   ],
   "source": [
    "print(f\"Query 4: 10x 3' v3 + primary + our {len(all_cell_values)} cell types\")\n",
    "obs_value_filter = f'assay == \"10x 3\\' v3\" and is_primary_data == True and cell_type_ontology_term_id in {all_cell_values}'\n",
    "\n",
    "obs_filtered = experiment.obs.read(\n",
    "    value_filter=obs_value_filter,\n",
    "    column_names=[\"cell_type_ontology_term_id\"]\n",
    ").concat().to_pandas()\n",
    "\n",
    "print(f\"Cells matching our cell types: {len(obs_filtered):,}\")\n",
    "print(f\"Unique cell types found: {obs_filtered['cell_type_ontology_term_id'].nunique()}\")\n",
    "\n",
    "filtered_counts = obs_filtered['cell_type_ontology_term_id'].value_counts()\n",
    "print(f\"\\nTop 20 of our cell types by count:\")\n",
    "print(filtered_counts.head(20))"
   ]
  },
  {
   "cell_type": "markdown",
   "id": "cell-11",
   "metadata": {},
   "source": [
    "## Test 5: Check which of our cell types have >5000 cells"
   ]
  },
  {
   "cell_type": "code",
   "execution_count": 7,
   "id": "cell-12",
   "metadata": {},
   "outputs": [
    {
     "name": "stdout",
     "output_type": "stream",
     "text": [
      "Checking which of our cell types meet the 5000 cell threshold...\n",
      "\n",
      "Our cell types with >5000 cells: 80\n",
      "Expected from preprocessing: 80\n",
      "\n",
      "Top 20:\n",
      "cell_type_ontology_term_id\n",
      "CL:0000084    611902\n",
      "CL:0000235    569955\n",
      "CL:0000837    401866\n",
      "CL:0008001    397378\n",
      "CL:0000236    396007\n",
      "CL:0000576    366274\n",
      "CL:0000129    333041\n",
      "CL:0000624    222571\n",
      "CL:0000878    209648\n",
      "CL:0000625    200909\n",
      "CL:0000623    183013\n",
      "CL:0000786    155558\n",
      "CL:0000763    153171\n",
      "CL:0000583    129513\n",
      "CL:0000860    117822\n",
      "CL:1001603    115074\n",
      "CL:0000895    109263\n",
      "CL:0000775    106218\n",
      "CL:0000542    100359\n",
      "CL:0000814     82147\n",
      "Name: count, dtype: int64\n"
     ]
    }
   ],
   "source": [
    "print(\"Checking which of our cell types meet the 5000 cell threshold...\")\n",
    "\n",
    "# From Test 3 results (before filtering to our cell types)\n",
    "cell_type_counts_all = obs_10x_primary['cell_type_ontology_term_id'].value_counts()\n",
    "\n",
    "# Filter for our cell types\n",
    "our_cell_counts = cell_type_counts_all[cell_type_counts_all.index.isin(all_cell_values)]\n",
    "over_5k = our_cell_counts[our_cell_counts > 5000]\n",
    "\n",
    "print(f\"\\nOur cell types with >5000 cells: {len(over_5k)}\")\n",
    "print(f\"Expected from preprocessing: 80\")\n",
    "print(f\"\\nTop 20:\")\n",
    "print(over_5k.head(20))\n",
    "\n",
    "if len(over_5k) != 80:\n",
    "    print(f\"\\n⚠️ MISMATCH: Expected 80 but found {len(over_5k)}!\")"
   ]
  },
  {
   "cell_type": "markdown",
   "id": "cell-13",
   "metadata": {},
   "source": [
    "## Summary: Where are the cells going?"
   ]
  },
  {
   "cell_type": "code",
   "execution_count": 8,
   "id": "cell-14",
   "metadata": {},
   "outputs": [
    {
     "name": "stdout",
     "output_type": "stream",
     "text": [
      "============================================================\n",
      "CELL COUNT SUMMARY\n",
      "============================================================\n",
      "1. All human cells: 106,118,167\n",
      "2. After 10x 3' v3 filter: 59,668,147\n",
      "3. After + primary data: 31,806,345\n",
      "4. After + our cell types: 6,292,764\n",
      "\n",
      "Our 80 cell types should give us ~6,292,764 cells\n",
      "But the notebook shows only ~24,000 cells\n",
      "\n",
      "⚠️ The issue is likely in the notebook's gene filtering or dataloader!\n"
     ]
    }
   ],
   "source": [
    "print(\"=\"*60)\n",
    "print(\"CELL COUNT SUMMARY\")\n",
    "print(\"=\"*60)\n",
    "print(f\"1. All human cells: {len(obs_all):,}\")\n",
    "print(f\"2. After 10x 3' v3 filter: {len(obs_10x):,}\")\n",
    "print(f\"3. After + primary data: {len(obs_10x_primary):,}\")\n",
    "print(f\"4. After + our cell types: {len(obs_filtered):,}\")\n",
    "print(f\"\\nOur {len(all_cell_values)} cell types should give us ~{over_5k.sum():,} cells\")\n",
    "print(f\"But the notebook shows only ~24,000 cells\")\n",
    "print(f\"\\n⚠️ The issue is likely in the notebook's gene filtering or dataloader!\")"
   ]
  },
  {
   "cell_type": "code",
   "execution_count": 9,
   "id": "cell-15",
   "metadata": {},
   "outputs": [],
   "source": [
    "census.close()"
   ]
  },
  {
   "cell_type": "code",
   "execution_count": null,
   "id": "03245de7",
   "metadata": {},
   "outputs": [],
   "source": []
  }
 ],
 "metadata": {
  "kernelspec": {
   "display_name": "McCell",
   "language": "python",
   "name": "python3"
  },
  "language_info": {
   "codemirror_mode": {
    "name": "ipython",
    "version": 3
   },
   "file_extension": ".py",
   "mimetype": "text/x-python",
   "name": "python",
   "nbconvert_exporter": "python",
   "pygments_lexer": "ipython3",
   "version": "3.11.13"
  }
 },
 "nbformat": 4,
 "nbformat_minor": 5
}
