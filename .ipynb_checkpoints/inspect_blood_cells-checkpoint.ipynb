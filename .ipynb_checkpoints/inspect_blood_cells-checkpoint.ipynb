{
 "cells": [
  {
   "cell_type": "code",
   "execution_count": 1,
   "metadata": {},
   "outputs": [],
   "source": [
    "import pandas as pd\n",
    "import torch\n",
    "import pickle\n",
    "from datetime import datetime\n",
    "from src.utils.ontology_utils import load_ontology\n",
    "from src.data_pipeline.data_loader import load_filtered_cell_metadata\n",
    "from src.data_pipeline.preprocess_ontology import preprocess_data_ontology\n",
    "from src.utils.paths import PROJECT_ROOT\n",
    "from src.utils.ontology_utils import get_sub_DAG"
   ]
  },
  {
   "cell_type": "code",
   "execution_count": 2,
   "metadata": {},
   "outputs": [
    {
     "name": "stdout",
     "output_type": "stream",
     "text": [
      "Loading cached ontology from /Users/jzhao/dev/Welch-lab/McCell/data/processed/ontology.pkl...\n",
      "Ontology loaded successfully.\n",
      "Total cell types including root: 708\n",
      "Term('CL:0002344', name='CD56-negative, CD161-positive immature natural killer cell, human')\n",
      "Term('CL:0000985', name='IgG plasma cell')\n",
      "Term('CL:0000958', name='T1 B cell')\n",
      "Term('CL:0002401', name='mature dendritic epithelial T cell precursor')\n",
      "Term('CL:0000926', name='CD4-positive type I NK T cell secreting interferon-gamma')\n"
     ]
    }
   ],
   "source": [
    "# 1. Load the cached ontology object\n",
    "cl = load_ontology()\n",
    "\n",
    "# Define the root of the ontology subgraph to be processed\n",
    "root_cl_id = 'CL:0000988'  # hematopoietic cell\n",
    "\n",
    "cell_types = get_sub_DAG(cl, root_cl_id)\n",
    "print(f\"Total cell types including root: {len(cell_types)}\")\n",
    "for t in list(cell_types)[:5]:\n",
    "    print(t)\n"
   ]
  },
  {
   "cell_type": "code",
   "execution_count": 3,
   "metadata": {},
   "outputs": [
    {
     "name": "stdout",
     "output_type": "stream",
     "text": [
      "Fetching descendants of CL:0000988...\n",
      "Connecting to CellXGene Census...\n"
     ]
    },
    {
     "name": "stderr",
     "output_type": "stream",
     "text": [
      "The \"stable\" release is currently 2025-01-30. Specify 'census_version=\"2025-01-30\"' in future calls to open_soma() to ensure data consistency.\n"
     ]
    },
    {
     "name": "stdout",
     "output_type": "stream",
     "text": [
      "Reading cell metadata to filter cell types...\n",
      "Found 160 cell types with > 5000 cells.\n",
      "Querying for final cell metadata...\n",
      "Finished loading and filtering cell metadata.\n",
      "Loaded cell metadata with 6383545 cells and 3 metadata fields.\n",
      "Metadata columns: ['cell_type_ontology_term_id', 'assay', 'is_primary_data']\n",
      "Starting ontology preprocessing...\n",
      "141 cell types in the dataset 41 leaf types, 100 internal types\n",
      "Preprocessing complete. Found 41 leaf values and 100 internal values.\n"
     ]
    }
   ],
   "source": [
    "# 2. Load filtered cell metadata from CellXGene Census\n",
    "cell_obs_metadata = load_filtered_cell_metadata(cl, root_cl_id=root_cl_id)\n",
    "print(f\"Loaded cell metadata with {cell_obs_metadata.shape[0]} cells and {cell_obs_metadata.shape[1]} metadata fields.\")\n",
    "print(\"Metadata columns:\", cell_obs_metadata.columns.tolist())\n",
    "\n",
    "# 3. Preprocess the ontology and cell data\n",
    "target_column = 'cell_type_ontology_term_id'\n",
    "\n",
    "print(\"Starting ontology preprocessing...\")\n",
    "# Note the 6 return values, including our new DataFrames\n",
    "mapping_dict, leaf_values, internal_values, marginalization_df, target_BCE, exclusion_df = preprocess_data_ontology(\n",
    "    cl, cell_obs_metadata, target_column,\n",
    "    upper_limit=root_cl_id,\n",
    "    cl_only=True\n",
    ")\n",
    "\n",
    "print(f\"Preprocessing complete. Found {len(leaf_values)} leaf values and {len(internal_values)} internal values.\")"
   ]
  },
  {
   "cell_type": "code",
   "execution_count": 4,
   "metadata": {},
   "outputs": [
    {
     "name": "stdout",
     "output_type": "stream",
     "text": [
      "Cell Parent Mask:\n",
      "            CL:0000233  CL:0000559  CL:0000794  CL:0000895  CL:0000899  \\\n",
      "CL:0000233           1           0           0           0           0   \n",
      "CL:0000559           0           1           0           0           0   \n",
      "CL:0000794           0           0           1           0           0   \n",
      "CL:0000895           0           0           0           1           0   \n",
      "CL:0000899           0           0           0           0           1   \n",
      "...                ...         ...         ...         ...         ...   \n",
      "CL:0002489           0           0           0           0           0   \n",
      "CL:0002496           0           0           0           0           0   \n",
      "CL:0008001           0           0           0           0           0   \n",
      "CL:1001603           0           0           0           0           0   \n",
      "CL:4033039           0           0           0           0           0   \n",
      "\n",
      "            CL:0000900  CL:0000903  CL:0000904  CL:0000905  CL:0000907  ...  \\\n",
      "CL:0000233           0           0           0           0           0  ...   \n",
      "CL:0000559           0           0           0           0           0  ...   \n",
      "CL:0000794           0           0           0           0           0  ...   \n",
      "CL:0000895           0           0           0           0           0  ...   \n",
      "CL:0000899           0           0           0           0           0  ...   \n",
      "...                ...         ...         ...         ...         ...  ...   \n",
      "CL:0002489           0           0           0           0           0  ...   \n",
      "CL:0002496           0           0           0           0           0  ...   \n",
      "CL:0008001           0           0           0           0           0  ...   \n",
      "CL:1001603           0           0           0           0           0  ...   \n",
      "CL:4033039           0           0           0           0           0  ...   \n",
      "\n",
      "            CL:0002038  CL:0002193  CL:0002393  CL:0002397  CL:0002419  \\\n",
      "CL:0000233           0           0           0           0           0   \n",
      "CL:0000559           0           0           0           0           0   \n",
      "CL:0000794           0           0           0           0           1   \n",
      "CL:0000895           0           0           0           0           1   \n",
      "CL:0000899           0           0           0           0           1   \n",
      "...                ...         ...         ...         ...         ...   \n",
      "CL:0002489           0           0           0           0           0   \n",
      "CL:0002496           0           0           0           0           1   \n",
      "CL:0008001           0           0           0           0           0   \n",
      "CL:1001603           0           0           0           0           0   \n",
      "CL:4033039           0           0           0           0           1   \n",
      "\n",
      "            CL:0002489  CL:0002496  CL:0008001  CL:1001603  CL:4033039  \n",
      "CL:0000233           0           0           0           0           0  \n",
      "CL:0000559           0           0           1           0           0  \n",
      "CL:0000794           0           0           0           0           0  \n",
      "CL:0000895           0           0           0           0           0  \n",
      "CL:0000899           0           0           0           0           0  \n",
      "...                ...         ...         ...         ...         ...  \n",
      "CL:0002489           1           0           0           0           0  \n",
      "CL:0002496           0           1           0           0           0  \n",
      "CL:0008001           0           0           1           0           0  \n",
      "CL:1001603           0           0           0           1           0  \n",
      "CL:4033039           0           0           0           0           1  \n",
      "\n",
      "[141 rows x 141 columns]\n",
      "(141, 141)\n"
     ]
    }
   ],
   "source": [
    "print(\"Cell Parent Mask:\")\n",
    "print(target_BCE)\n",
    "print(target_BCE.shape)"
   ]
  },
  {
   "cell_type": "code",
   "execution_count": 6,
   "metadata": {},
   "outputs": [
    {
     "name": "stdout",
     "output_type": "stream",
     "text": [
      "Found hematopoietic cell term: CL:0000988\n",
      "Found 708 blood cell subclasses.\n",
      "\n",
      "Inspecting ontology_df for: hematopoietic cell\n",
      "\n",
      "Row (Pandas Series) from ontology_df:\n",
      "CL:0000233    0\n",
      "CL:0000559    0\n",
      "CL:0000794    0\n",
      "CL:0000895    0\n",
      "CL:0000899    0\n",
      "CL:0000900    0\n",
      "CL:0000903    0\n",
      "CL:0000904    0\n",
      "CL:0000905    0\n",
      "CL:0000907    0\n",
      "CL:0000910    0\n",
      "CL:0000912    0\n",
      "CL:0000913    0\n",
      "CL:0000915    0\n",
      "CL:0000917    0\n",
      "CL:0000934    0\n",
      "CL:0000936    0\n",
      "CL:0000938    0\n",
      "CL:0000939    0\n",
      "CL:0000940    0\n",
      "CL:0000985    0\n",
      "CL:0000987    0\n",
      "CL:0001043    0\n",
      "CL:0001044    0\n",
      "CL:0001049    0\n",
      "Name: CL:0000988, dtype: int64\n",
      "\n",
      "Found 1 ancestors in the DataFrame (including self):\n",
      "- hematopoietic cell (CL:0000988)\n"
     ]
    }
   ],
   "source": [
    "blood_cell_term = cl.get('CL:0000988')\n",
    "\n",
    "if blood_cell_term:\n",
    "    print(f\"Found {blood_cell_term.name} term: {blood_cell_term.id}\")\n",
    "\n",
    "    # Get all subclasses of blood cell\n",
    "    blood_cell_subclasses = list(blood_cell_term.subclasses())\n",
    "    print(f\"Found {len(blood_cell_subclasses)} blood cell subclasses.\")\n",
    "\n",
    "    # Directly access the row in the DataFrame using the CL ID.\n",
    "    # The row represents the \"child\" and the columns with a '1' are its \"parents\".\n",
    "    print(f\"\\nInspecting ontology_df for: {blood_cell_term.name}\")\n",
    "\n",
    "    # Use .loc for clear, label-based indexing.\n",
    "    ancestor_vector = target_BCE.loc[blood_cell_term.id]\n",
    "\n",
    "    print(\"\\nRow (Pandas Series) from ontology_df:\")\n",
    "    # Displaying the first 25 entries of the vector\n",
    "    print(ancestor_vector.head(25))\n",
    "\n",
    "    # To make it more readable, let's find and print the names of the ancestors\n",
    "    ancestors = ancestor_vector[ancestor_vector == 1].index.tolist()\n",
    "    print(f\"\\nFound {len(ancestors)} ancestors in the DataFrame (including self):\")\n",
    "    for ancestor_id in ancestors[:10]:  # Print first 10\n",
    "        print(f\"- {cl[ancestor_id].name} ({ancestor_id})\")\n",
    "else:\n",
    "    print(\"Blood cell term 'CL:0000988' not found in the ontology.\")"
   ]
  },
  {
   "cell_type": "code",
   "execution_count": 10,
   "metadata": {},
   "outputs": [
    {
     "name": "stdout",
     "output_type": "stream",
     "text": [
      "Verifying leaf node: 'platelet' (CL:0000233)\n",
      "\n",
      "Fetching ancestor vector from target_BCE...\n",
      "\n",
      "Found 4 ancestors (including self):\n",
      "- platelet (CL:0000233)\n",
      "- blood cell (CL:0000081)\n",
      "- myeloid cell (CL:0000763)\n",
      "- hematopoietic cell (CL:0000988)\n"
     ]
    }
   ],
   "source": [
    "\n",
    "# 1. Pick a leaf node to verify\n",
    "leaf_to_inspect = leaf_values[0]\n",
    "leaf_node_term = cl[leaf_to_inspect]\n",
    "print(f\"Verifying leaf node: '{leaf_node_term.name}' ({leaf_to_inspect})\")\n",
    "\n",
    "# 2. Directly access the corresponding row in target_BCE using its CL ID\n",
    "print(f\"\\nFetching ancestor vector from target_BCE...\")\n",
    "ancestor_vector = target_BCE.loc[leaf_to_inspect]\n",
    "\n",
    "# 3. Find and print the names of the ancestors from the vector\n",
    "# This is more informative than printing a long tensor of 0s and 1s.\n",
    "ancestors = ancestor_vector[ancestor_vector == 1].index.tolist()\n",
    "\n",
    "print(f\"\\nFound {len(ancestors)} ancestors (including self):\")\n",
    "# To avoid printing too many, let's just show the first 15\n",
    "for i, ancestor_id in enumerate(ancestors):\n",
    "    if i < 15:\n",
    "        print(f\"- {cl[ancestor_id].name} ({ancestor_id})\")\n",
    "\n",
    "if len(ancestors) > 15:\n",
    "    print(f\"... and {len(ancestors) - 15} more.\")"
   ]
  },
  {
   "cell_type": "code",
   "execution_count": 12,
   "metadata": {},
   "outputs": [
    {
     "name": "stdout",
     "output_type": "stream",
     "text": [
      "Verifying exclusion_df for internal node: 'monocyte' (CL:0000576)\n",
      "We expect to see its descendants listed here, as they will be excluded from the loss (value = 0).\n",
      "\n",
      "Found 7 excluded descendants:\n",
      "- CD14-positive, CD16-negative classical monocyte (CL:0002057)\n",
      "- CD14-low, CD16-positive monocyte (CL:0002396)\n",
      "- classical monocyte (CL:0000860)\n",
      "- non-classical monocyte (CL:0000875)\n",
      "- CD14-positive monocyte (CL:0001054)\n",
      "- intermediate monocyte (CL:0002393)\n",
      "- CD14-positive, CD16-positive monocyte (CL:0002397)\n"
     ]
    }
   ],
   "source": [
    "# Using a known internal node for consistency, e.g., monocyte\n",
    "internal_to_inspect = 'CL:0000576'\n",
    "\n",
    "if internal_to_inspect in internal_values:\n",
    "    internal_node_term = cl[internal_to_inspect]\n",
    "    print(f\"Verifying exclusion_df for internal node: '{internal_node_term.name}' ({internal_to_inspect})\")\n",
    "    print(\"We expect to see its descendants listed here, as they will be excluded from the loss (value = 0).\")\n",
    "\n",
    "    # 2. Directly access the corresponding row in exclusion_df\n",
    "    exclusion_vector = exclusion_df.loc[internal_to_inspect]\n",
    "\n",
    "    # 3. Find and print the names of the excluded descendants (where value is 0)\n",
    "    excluded_nodes = exclusion_vector[exclusion_vector == 0].index.tolist()\n",
    "\n",
    "    if excluded_nodes:\n",
    "        print(f\"\\nFound {len(excluded_nodes)} excluded descendants:\")\n",
    "        # To avoid printing too many, let's just show the first 15\n",
    "        for i, child_id in enumerate(excluded_nodes):\n",
    "            if i < 15:\n",
    "                print(f\"- {cl[child_id].name} ({child_id})\")\n",
    "        if len(excluded_nodes) > 15:\n",
    "            print(f\"... and {len(excluded_nodes) - 15} more.\")\n",
    "    else:\n",
    "        print(\"\\nFound no descendants in this dataset to exclude for this node.\")\n",
    "\n",
    "else:\n",
    "    print(f\"Node {internal_to_inspect} is not in this dataset's list of internal values.\")"
   ]
  }
 ],
 "metadata": {
  "kernelspec": {
   "display_name": "McCell",
   "language": "python",
   "name": "python3"
  },
  "language_info": {
   "codemirror_mode": {
    "name": "ipython",
    "version": 3
   },
   "file_extension": ".py",
   "mimetype": "text/x-python",
   "name": "python",
   "nbconvert_exporter": "python",
   "pygments_lexer": "ipython3",
   "version": "3.11.13"
  }
 },
 "nbformat": 4,
 "nbformat_minor": 4
}
