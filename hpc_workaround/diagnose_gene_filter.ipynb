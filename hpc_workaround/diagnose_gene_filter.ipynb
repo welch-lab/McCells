{
 "cells": [
  {
   "cell_type": "markdown",
   "metadata": {},
   "source": [
    "# Diagnose Why Training Gets Only 24k Cells\n",
    "\n",
    "This notebook tests whether the gene filter is causing the low cell count."
   ]
  },
  {
   "cell_type": "code",
   "execution_count": 1,
   "metadata": {},
   "outputs": [
    {
     "name": "stdout",
     "output_type": "stream",
     "text": [
      "Opening SOMA database...\n",
      "✓ Database opened successfully\n"
     ]
    }
   ],
   "source": [
    "import tiledbsoma as soma\n",
    "import pandas as pd\n",
    "from pathlib import Path\n",
    "\n",
    "SOMA_PATH = \"/scratch/sigbio_project_root/sigbio_project25/jingqiao/mccell-single/soma_db_homo_sapiens\"\n",
    "\n",
    "print(\"Opening SOMA database...\")\n",
    "experiment = soma.open(SOMA_PATH, mode=\"r\")\n",
    "print(\"✓ Database opened successfully\")"
   ]
  },
  {
   "cell_type": "markdown",
   "metadata": {},
   "source": [
    "## Test 1: Total Cells in Database"
   ]
  },
  {
   "cell_type": "code",
   "execution_count": 2,
   "metadata": {},
   "outputs": [
    {
     "name": "stdout",
     "output_type": "stream",
     "text": [
      "Counting total cells...\n",
      "Total cells in database: 106,118,167\n"
     ]
    }
   ],
   "source": [
    "print(\"Counting total cells...\")\n",
    "obs_count_df = experiment.obs.read(column_names=[\"soma_joinid\"]).concat().to_pandas()\n",
    "total_cells = len(obs_count_df)\n",
    "print(f\"Total cells in database: {total_cells:,}\")\n",
    "del obs_count_df"
   ]
  },
  {
   "cell_type": "markdown",
   "metadata": {},
   "source": [
    "## Test 2: Sample Data Structure"
   ]
  },
  {
   "cell_type": "code",
   "execution_count": 3,
   "metadata": {},
   "outputs": [
    {
     "name": "stdout",
     "output_type": "stream",
     "text": [
      "Reading first 10 cells...\n",
      "\n",
      "Columns available:\n",
      "['soma_joinid', 'dataset_id', 'assay', 'assay_ontology_term_id', 'cell_type', 'cell_type_ontology_term_id', 'development_stage', 'development_stage_ontology_term_id', 'disease', 'disease_ontology_term_id', 'donor_id', 'is_primary_data', 'observation_joinid', 'self_reported_ethnicity', 'self_reported_ethnicity_ontology_term_id', 'sex', 'sex_ontology_term_id', 'suspension_type', 'tissue', 'tissue_ontology_term_id', 'tissue_type', 'tissue_general', 'tissue_general_ontology_term_id', 'raw_sum', 'nnz', 'raw_mean_nnz', 'raw_variance_nnz', 'n_measured_vars']\n",
      "\n",
      "First 3 cells:\n"
     ]
    },
    {
     "data": {
      "text/html": [
       "<div>\n",
       "<style scoped>\n",
       "    .dataframe tbody tr th:only-of-type {\n",
       "        vertical-align: middle;\n",
       "    }\n",
       "\n",
       "    .dataframe tbody tr th {\n",
       "        vertical-align: top;\n",
       "    }\n",
       "\n",
       "    .dataframe thead th {\n",
       "        text-align: right;\n",
       "    }\n",
       "</style>\n",
       "<table border=\"1\" class=\"dataframe\">\n",
       "  <thead>\n",
       "    <tr style=\"text-align: right;\">\n",
       "      <th></th>\n",
       "      <th>soma_joinid</th>\n",
       "      <th>dataset_id</th>\n",
       "      <th>assay</th>\n",
       "      <th>assay_ontology_term_id</th>\n",
       "      <th>cell_type</th>\n",
       "      <th>cell_type_ontology_term_id</th>\n",
       "      <th>development_stage</th>\n",
       "      <th>development_stage_ontology_term_id</th>\n",
       "      <th>disease</th>\n",
       "      <th>disease_ontology_term_id</th>\n",
       "      <th>...</th>\n",
       "      <th>tissue</th>\n",
       "      <th>tissue_ontology_term_id</th>\n",
       "      <th>tissue_type</th>\n",
       "      <th>tissue_general</th>\n",
       "      <th>tissue_general_ontology_term_id</th>\n",
       "      <th>raw_sum</th>\n",
       "      <th>nnz</th>\n",
       "      <th>raw_mean_nnz</th>\n",
       "      <th>raw_variance_nnz</th>\n",
       "      <th>n_measured_vars</th>\n",
       "    </tr>\n",
       "  </thead>\n",
       "  <tbody>\n",
       "    <tr>\n",
       "      <th>0</th>\n",
       "      <td>0</td>\n",
       "      <td>d7476ae2-e320-4703-8304-da5c42627e71</td>\n",
       "      <td>10x 3' v3</td>\n",
       "      <td>EFO:0009922</td>\n",
       "      <td>endothelial cell</td>\n",
       "      <td>CL:0000115</td>\n",
       "      <td>29-year-old stage</td>\n",
       "      <td>HsapDv:0000123</td>\n",
       "      <td>breast cancer</td>\n",
       "      <td>MONDO:0007254</td>\n",
       "      <td>...</td>\n",
       "      <td>liver</td>\n",
       "      <td>UBERON:0002107</td>\n",
       "      <td>tissue</td>\n",
       "      <td>liver</td>\n",
       "      <td>UBERON:0002107</td>\n",
       "      <td>19641.0</td>\n",
       "      <td>7157</td>\n",
       "      <td>2.744306</td>\n",
       "      <td>696.131649</td>\n",
       "      <td>12641</td>\n",
       "    </tr>\n",
       "    <tr>\n",
       "      <th>1</th>\n",
       "      <td>1</td>\n",
       "      <td>d7476ae2-e320-4703-8304-da5c42627e71</td>\n",
       "      <td>10x 3' v3</td>\n",
       "      <td>EFO:0009922</td>\n",
       "      <td>malignant cell</td>\n",
       "      <td>CL:0001064</td>\n",
       "      <td>29-year-old stage</td>\n",
       "      <td>HsapDv:0000123</td>\n",
       "      <td>breast cancer</td>\n",
       "      <td>MONDO:0007254</td>\n",
       "      <td>...</td>\n",
       "      <td>liver</td>\n",
       "      <td>UBERON:0002107</td>\n",
       "      <td>tissue</td>\n",
       "      <td>liver</td>\n",
       "      <td>UBERON:0002107</td>\n",
       "      <td>17251.0</td>\n",
       "      <td>5388</td>\n",
       "      <td>3.201745</td>\n",
       "      <td>394.135085</td>\n",
       "      <td>12641</td>\n",
       "    </tr>\n",
       "    <tr>\n",
       "      <th>2</th>\n",
       "      <td>2</td>\n",
       "      <td>d7476ae2-e320-4703-8304-da5c42627e71</td>\n",
       "      <td>10x 3' v3</td>\n",
       "      <td>EFO:0009922</td>\n",
       "      <td>fibroblast</td>\n",
       "      <td>CL:0000057</td>\n",
       "      <td>29-year-old stage</td>\n",
       "      <td>HsapDv:0000123</td>\n",
       "      <td>breast cancer</td>\n",
       "      <td>MONDO:0007254</td>\n",
       "      <td>...</td>\n",
       "      <td>liver</td>\n",
       "      <td>UBERON:0002107</td>\n",
       "      <td>tissue</td>\n",
       "      <td>liver</td>\n",
       "      <td>UBERON:0002107</td>\n",
       "      <td>14631.0</td>\n",
       "      <td>3942</td>\n",
       "      <td>3.711568</td>\n",
       "      <td>1602.371239</td>\n",
       "      <td>12641</td>\n",
       "    </tr>\n",
       "  </tbody>\n",
       "</table>\n",
       "<p>3 rows × 28 columns</p>\n",
       "</div>"
      ],
      "text/plain": [
       "   soma_joinid                            dataset_id      assay  \\\n",
       "0            0  d7476ae2-e320-4703-8304-da5c42627e71  10x 3' v3   \n",
       "1            1  d7476ae2-e320-4703-8304-da5c42627e71  10x 3' v3   \n",
       "2            2  d7476ae2-e320-4703-8304-da5c42627e71  10x 3' v3   \n",
       "\n",
       "  assay_ontology_term_id         cell_type cell_type_ontology_term_id  \\\n",
       "0            EFO:0009922  endothelial cell                 CL:0000115   \n",
       "1            EFO:0009922    malignant cell                 CL:0001064   \n",
       "2            EFO:0009922        fibroblast                 CL:0000057   \n",
       "\n",
       "   development_stage development_stage_ontology_term_id        disease  \\\n",
       "0  29-year-old stage                     HsapDv:0000123  breast cancer   \n",
       "1  29-year-old stage                     HsapDv:0000123  breast cancer   \n",
       "2  29-year-old stage                     HsapDv:0000123  breast cancer   \n",
       "\n",
       "  disease_ontology_term_id  ... tissue  tissue_ontology_term_id tissue_type  \\\n",
       "0            MONDO:0007254  ...  liver           UBERON:0002107      tissue   \n",
       "1            MONDO:0007254  ...  liver           UBERON:0002107      tissue   \n",
       "2            MONDO:0007254  ...  liver           UBERON:0002107      tissue   \n",
       "\n",
       "  tissue_general tissue_general_ontology_term_id  raw_sum   nnz raw_mean_nnz  \\\n",
       "0          liver                  UBERON:0002107  19641.0  7157     2.744306   \n",
       "1          liver                  UBERON:0002107  17251.0  5388     3.201745   \n",
       "2          liver                  UBERON:0002107  14631.0  3942     3.711568   \n",
       "\n",
       "  raw_variance_nnz n_measured_vars  \n",
       "0       696.131649           12641  \n",
       "1       394.135085           12641  \n",
       "2      1602.371239           12641  \n",
       "\n",
       "[3 rows x 28 columns]"
      ]
     },
     "execution_count": 3,
     "metadata": {},
     "output_type": "execute_result"
    }
   ],
   "source": [
    "print(\"Reading first 10 cells...\")\n",
    "obs_sample = experiment.obs.read(coords=(slice(10),)).concat().to_pandas()\n",
    "print(f\"\\nColumns available:\")\n",
    "print(obs_sample.columns.tolist())\n",
    "print(f\"\\nFirst 3 cells:\")\n",
    "obs_sample.head(3)"
   ]
  },
  {
   "cell_type": "markdown",
   "metadata": {},
   "source": [
    "## Test 3: Assay Distribution"
   ]
  },
  {
   "cell_type": "code",
   "execution_count": 4,
   "metadata": {},
   "outputs": [
    {
     "name": "stdout",
     "output_type": "stream",
     "text": [
      "Reading assay column...\n",
      "\n",
      "Assay distribution (top 10):\n",
      "assay\n",
      "10x 3' v3                              59668147\n",
      "10x 3' v2                              22750589\n",
      "10x 5' v1                               7448617\n",
      "sci-RNA-seq3                            5064268\n",
      "10x 5' v2                               4363694\n",
      "10x 5' transcription profiling          1968545\n",
      "Drop-seq                                1048377\n",
      "ScaleBio single cell RNA sequencing      700524\n",
      "10x 3' transcription profiling           665642\n",
      "microwell-seq                            642559\n",
      "Name: count, dtype: int64\n",
      "\n",
      "✓ Found '10x 3' v3' assay: 59,668,147 cells\n"
     ]
    }
   ],
   "source": [
    "print(\"Reading assay column...\")\n",
    "obs_assay = experiment.obs.read(column_names=[\"assay\"]).concat().to_pandas()\n",
    "assay_counts = obs_assay['assay'].value_counts()\n",
    "\n",
    "print(f\"\\nAssay distribution (top 10):\")\n",
    "print(assay_counts.head(10))\n",
    "\n",
    "if \"10x 3' v3\" in assay_counts.index:\n",
    "    v3_count = assay_counts[\"10x 3' v3\"]\n",
    "    print(f\"\\n✓ Found '10x 3' v3' assay: {v3_count:,} cells\")\n",
    "else:\n",
    "    print(f\"\\n❌ WARNING: '10x 3' v3' assay NOT found!\")\n",
    "\n",
    "del obs_assay"
   ]
  },
  {
   "cell_type": "markdown",
   "metadata": {},
   "source": [
    "## Test 4: Primary Data Distribution"
   ]
  },
  {
   "cell_type": "code",
   "execution_count": 5,
   "metadata": {},
   "outputs": [
    {
     "name": "stdout",
     "output_type": "stream",
     "text": [
      "Reading is_primary_data column...\n",
      "\n",
      "is_primary_data distribution:\n",
      "is_primary_data\n",
      "True     62634126\n",
      "False    43484041\n",
      "Name: count, dtype: int64\n",
      "\n",
      "✓ Primary data cells: 62,634,126\n"
     ]
    }
   ],
   "source": [
    "print(\"Reading is_primary_data column...\")\n",
    "obs_primary = experiment.obs.read(column_names=[\"is_primary_data\"]).concat().to_pandas()\n",
    "primary_counts = obs_primary['is_primary_data'].value_counts()\n",
    "\n",
    "print(f\"\\nis_primary_data distribution:\")\n",
    "print(primary_counts)\n",
    "\n",
    "if True in primary_counts.index:\n",
    "    primary_true_count = primary_counts[True]\n",
    "    print(f\"\\n✓ Primary data cells: {primary_true_count:,}\")\n",
    "\n",
    "del obs_primary"
   ]
  },
  {
   "cell_type": "markdown",
   "metadata": {},
   "source": [
    "## Test 5: Query Cells WITHOUT Gene Filter"
   ]
  },
  {
   "cell_type": "code",
   "execution_count": 6,
   "metadata": {},
   "outputs": [
    {
     "name": "stdout",
     "output_type": "stream",
     "text": [
      "================================================================================\n",
      "QUERYING CELLS WITHOUT GENE FILTER\n",
      "================================================================================\n",
      "Cell filter: assay == \"10x 3' v3\" and is_primary_data == True\n",
      "\n",
      "✓ Cells found: 31,806,345\n",
      "  Unique cell types: 625\n",
      "\n",
      "  Top 10 cell types:\n",
      "cell_type_ontology_term_id\n",
      "CL:0000540    3118306\n",
      "CL:0000128    2632680\n",
      "CL:4023040    1734499\n",
      "CL:0000604    1141897\n",
      "CL:0000057     920759\n",
      "CL:0000127     622607\n",
      "unknown        619217\n",
      "CL:0000084     611902\n",
      "CL:0000235     569955\n",
      "CL:0000679     562975\n",
      "Name: count, dtype: int64\n",
      "\n",
      "  Cell types with >5000 cells: 320\n"
     ]
    }
   ],
   "source": [
    "print(\"=\"*80)\n",
    "print(\"QUERYING CELLS WITHOUT GENE FILTER\")\n",
    "print(\"=\"*80)\n",
    "\n",
    "obs_filter = 'assay == \"10x 3\\' v3\" and is_primary_data == True'\n",
    "print(f\"Cell filter: {obs_filter}\")\n",
    "\n",
    "with experiment.axis_query(\n",
    "    measurement_name=\"RNA\",\n",
    "    obs_query=soma.AxisQuery(value_filter=obs_filter),\n",
    ") as query:\n",
    "    obs_df = query.obs(column_names=[\"cell_type_ontology_term_id\"]).concat().to_pandas()\n",
    "    count_without_gene_filter = len(obs_df)\n",
    "    \n",
    "    print(f\"\\n✓ Cells found: {count_without_gene_filter:,}\")\n",
    "    \n",
    "    # Check cell type distribution\n",
    "    unique_cell_types = obs_df['cell_type_ontology_term_id'].nunique()\n",
    "    print(f\"  Unique cell types: {unique_cell_types}\")\n",
    "    \n",
    "    cell_type_counts = obs_df['cell_type_ontology_term_id'].value_counts()\n",
    "    print(f\"\\n  Top 10 cell types:\")\n",
    "    print(cell_type_counts.head(10))\n",
    "    \n",
    "    # Cell types with >5000 cells\n",
    "    over_5k = cell_type_counts[cell_type_counts > 5000]\n",
    "    print(f\"\\n  Cell types with >5000 cells: {len(over_5k)}\")"
   ]
  },
  {
   "cell_type": "markdown",
   "metadata": {},
   "source": [
    "## Test 6: Query Cells WITH Gene Filter (Like Training Notebook)"
   ]
  },
  {
   "cell_type": "code",
   "execution_count": 7,
   "metadata": {},
   "outputs": [
    {
     "name": "stdout",
     "output_type": "stream",
     "text": [
      "================================================================================\n",
      "QUERYING CELLS WITH GENE FILTER (protein-coding genes)\n",
      "================================================================================\n",
      "Filtering to 23262 protein-coding genes\n",
      "\n",
      "✓ Cells found: 31,806,345\n",
      "  Unique cell types: 625\n"
     ]
    }
   ],
   "source": [
    "print(\"=\"*80)\n",
    "print(\"QUERYING CELLS WITH GENE FILTER (protein-coding genes)\")\n",
    "print(\"=\"*80)\n",
    "\n",
    "# Load the gene list\n",
    "biomart_path = Path.home() / \"real_McCell/hpc_workaround/data/mart_export.txt\"\n",
    "biomart = pd.read_csv(biomart_path)\n",
    "coding_only = biomart[biomart['Gene type'] == 'protein_coding']\n",
    "gene_list = coding_only['Gene stable ID'].tolist()\n",
    "\n",
    "print(f\"Filtering to {len(gene_list)} protein-coding genes\")\n",
    "\n",
    "var_filter = f\"feature_id in {gene_list}\"\n",
    "\n",
    "with experiment.axis_query(\n",
    "    measurement_name=\"RNA\",\n",
    "    obs_query=soma.AxisQuery(value_filter=obs_filter),\n",
    "    var_query=soma.AxisQuery(value_filter=var_filter),\n",
    ") as query:\n",
    "    obs_df = query.obs(column_names=[\"cell_type_ontology_term_id\"]).concat().to_pandas()\n",
    "    count_with_gene_filter = len(obs_df)\n",
    "    \n",
    "    print(f\"\\n✓ Cells found: {count_with_gene_filter:,}\")\n",
    "    \n",
    "    unique_cell_types = obs_df['cell_type_ontology_term_id'].nunique()\n",
    "    print(f\"  Unique cell types: {unique_cell_types}\")"
   ]
  },
  {
   "cell_type": "markdown",
   "metadata": {},
   "source": [
    "## Summary: Is the Gene Filter the Problem?"
   ]
  },
  {
   "cell_type": "code",
   "execution_count": 8,
   "metadata": {},
   "outputs": [
    {
     "name": "stdout",
     "output_type": "stream",
     "text": [
      "================================================================================\n",
      "SUMMARY\n",
      "================================================================================\n",
      "Cells WITHOUT gene filter: 31,806,345\n",
      "Cells WITH gene filter:    31,806,345\n",
      "Difference:                0\n",
      "Reduction:                 0.0%\n",
      "\n",
      "✓ Gene filter does not significantly reduce cell count\n",
      "   The issue must be elsewhere.\n"
     ]
    }
   ],
   "source": [
    "print(\"=\"*80)\n",
    "print(\"SUMMARY\")\n",
    "print(\"=\"*80)\n",
    "print(f\"Cells WITHOUT gene filter: {count_without_gene_filter:,}\")\n",
    "print(f\"Cells WITH gene filter:    {count_with_gene_filter:,}\")\n",
    "print(f\"Difference:                {count_without_gene_filter - count_with_gene_filter:,}\")\n",
    "print(f\"Reduction:                 {(1 - count_with_gene_filter/count_without_gene_filter)*100:.1f}%\")\n",
    "\n",
    "if count_with_gene_filter < count_without_gene_filter * 0.1:\n",
    "    print(\"\\n⚠️  CONFIRMED: The gene filter is drastically reducing cell count!\")\n",
    "    print(\"   The SOMA database contains sparse data.\")\n",
    "    print(\"   Not all cells have measurements for all protein-coding genes.\")\n",
    "    print(\"\\n💡 SOLUTION:\")\n",
    "    print(\"   - Remove var_query filter when querying cells\")\n",
    "    print(\"   - Let the dataloader handle gene filtering/selection\")\n",
    "    print(\"   - Or use only highly variable genes (HVGs) that are commonly measured\")\n",
    "else:\n",
    "    print(\"\\n✓ Gene filter does not significantly reduce cell count\")\n",
    "    print(\"   The issue must be elsewhere.\")"
   ]
  },
  {
   "cell_type": "code",
   "execution_count": 16,
   "metadata": {},
   "outputs": [
    {
     "name": "stdout",
     "output_type": "stream",
     "text": [
      "Preprocessing has 80 cell types\n",
      "\n",
      "Cells matching those 80 cell types: 6,292,764\n",
      "Unique cell types found: 80\n"
     ]
    }
   ],
   "source": [
    "from pathlib import Path\n",
    "import pickle\n",
    "import sys\n",
    "\n",
    "# Add project root to path so we can import from src\n",
    "PROJECT_ROOT = Path.home() / \"real_McCell\"\n",
    "sys.path.insert(0, str(PROJECT_ROOT))\n",
    "\n",
    "from src.utils.paths import get_data_folder\n",
    "\n",
    "  # Load the preprocessing artifacts\n",
    "DATE = '2025-10-24'\n",
    "PROCESSED_DATA_DIR = get_data_folder(DATE)\n",
    "\n",
    "mapping_dict_df = pd.read_csv(PROCESSED_DATA_DIR / f\"{DATE}_mapping_dict_df.csv\", index_col=0)\n",
    "all_cell_values = list(mapping_dict_df.index)\n",
    "\n",
    "print(f\"Preprocessing has {len(all_cell_values)} cell types\")\n",
    "\n",
    "# Now query with the cell type filter\n",
    "obs_filter_with_cells = f'assay == \"10x 3\\' v3\" and is_primary_data == True and cell_type_ontology_term_id in {all_cell_values}'\n",
    "\n",
    "with experiment.axis_query(\n",
    "  measurement_name=\"RNA\",\n",
    "  obs_query=soma.AxisQuery(value_filter=obs_filter_with_cells),\n",
    ") as query:\n",
    "  obs_df = query.obs(column_names=[\"cell_type_ontology_term_id\"]).concat().to_pandas()\n",
    "\n",
    "  print(f\"\\nCells matching those {len(all_cell_values)} cell types: {len(obs_df):,}\")\n",
    "  print(f\"Unique cell types found: {obs_df['cell_type_ontology_term_id'].nunique()}\")\n",
    "\n",
    "  # Which cell types are missing?\n",
    "  found_types = set(obs_df['cell_type_ontology_term_id'].unique())\n",
    "  expected_types = set(all_cell_values)\n",
    "  missing_types = expected_types - found_types\n",
    "\n",
    "  if missing_types:\n",
    "      print(f\"\\n⚠️  {len(missing_types)} cell types from preprocessing NOT found in local database!\")\n",
    "      print(f\"   Missing: {list(missing_types)[:10]}\")"
   ]
  },
  {
   "cell_type": "code",
   "execution_count": 18,
   "metadata": {},
   "outputs": [
    {
     "name": "stdout",
     "output_type": "stream",
     "text": [
      "================================================================================\n",
      "TEST: Query with 80 cell types AND gene filter\n",
      "================================================================================\n",
      "Cell types: 80\n",
      "Genes: 23262\n",
      "\n",
      "Cells with BOTH filters: 6,292,764\n",
      "Unique cell types found: 80\n",
      "\n",
      "================================================================================\n",
      "COMPARISON:\n",
      "================================================================================\n",
      "Cells with NO filters:              31,806,345\n",
      "Cells with gene filter only:        31,806,345\n",
      "Cells with BOTH filters:            6,292,764\n",
      "\n",
      "Reduction from gene filter only:    25,513,581\n"
     ]
    }
   ],
   "source": [
    "# Test: Query with BOTH cell type AND gene filters\n",
    "print(\"=\"*80)\n",
    "print(\"TEST: Query with 80 cell types AND gene filter\")\n",
    "print(\"=\"*80)\n",
    "\n",
    "# Load cell types\n",
    "from pathlib import Path\n",
    "import sys\n",
    "PROJECT_ROOT = Path.home() / \"real_McCell\"\n",
    "sys.path.insert(0, str(PROJECT_ROOT))\n",
    "from src.utils.paths import get_data_folder\n",
    "\n",
    "DATE = '2025-10-24'\n",
    "PROCESSED_DATA_DIR = get_data_folder(DATE)\n",
    "mapping_dict_df = pd.read_csv(PROCESSED_DATA_DIR / f\"{DATE}_mapping_dict_df.csv\", index_col=0)\n",
    "all_cell_values = list(mapping_dict_df.index)\n",
    "\n",
    "# Build filter with cell types\n",
    "obs_filter_with_cells = f'assay == \"10x 3\\' v3\" and is_primary_data == True and cell_type_ontology_term_id in {all_cell_values}'\n",
    "\n",
    "print(f\"Cell types: {len(all_cell_values)}\")\n",
    "print(f\"Genes: {len(gene_list)}\")\n",
    "\n",
    "with experiment.axis_query(\n",
    "  measurement_name=\"RNA\",\n",
    "  obs_query=soma.AxisQuery(value_filter=obs_filter_with_cells),\n",
    "  var_query=soma.AxisQuery(value_filter=var_filter),\n",
    ") as query:\n",
    "  obs_df = query.obs(column_names=[\"cell_type_ontology_term_id\"]).concat().to_pandas()\n",
    "  count_both_filters = len(obs_df)\n",
    "\n",
    "  print(f\"\\nCells with BOTH filters: {count_both_filters:,}\")\n",
    "  print(f\"Unique cell types found: {obs_df['cell_type_ontology_term_id'].nunique()}\")\n",
    "\n",
    "  # Compare to previous results\n",
    "  print(\"\\n\" + \"=\"*80)\n",
    "  print(\"COMPARISON:\")\n",
    "  print(\"=\"*80)\n",
    "  print(f\"Cells with NO filters:              {count_without_gene_filter:,}\")\n",
    "  print(f\"Cells with gene filter only:        {count_with_gene_filter:,}\")\n",
    "  print(f\"Cells with BOTH filters:            {count_both_filters:,}\")\n",
    "  print(f\"\\nReduction from gene filter only:    {count_with_gene_filter - count_both_filters:,}\")"
   ]
  },
  {
   "cell_type": "code",
   "execution_count": null,
   "metadata": {},
   "outputs": [],
   "source": [
    "# Cleanup\n",
    "experiment.close()\n",
    "print(\"\\n✓ Database closed\")"
   ]
  }
 ],
 "metadata": {
  "kernelspec": {
   "display_name": "McCell",
   "language": "python",
   "name": "mccell"
  },
  "language_info": {
   "codemirror_mode": {
    "name": "ipython",
    "version": 3
   },
   "file_extension": ".py",
   "mimetype": "text/x-python",
   "name": "python",
   "nbconvert_exporter": "python",
   "pygments_lexer": "ipython3",
   "version": "3.12.8"
  }
 },
 "nbformat": 4,
 "nbformat_minor": 4
}
