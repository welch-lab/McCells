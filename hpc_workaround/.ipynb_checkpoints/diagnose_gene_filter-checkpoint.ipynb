{
 "cells": [
  {
   "cell_type": "markdown",
   "metadata": {},
   "source": [
    "# Diagnose Why Training Gets Only 24k Cells\n",
    "\n",
    "This notebook tests whether the gene filter is causing the low cell count."
   ]
  },
  {
   "cell_type": "code",
   "execution_count": null,
   "metadata": {},
   "outputs": [],
   "source": [
    "import tiledbsoma as soma\n",
    "import pandas as pd\n",
    "from pathlib import Path\n",
    "\n",
    "SOMA_PATH = \"/scratch/sigbio_project_root/sigbio_project25/jingqiao/mccell-single/soma_db_homo_sapiens\"\n",
    "\n",
    "print(\"Opening SOMA database...\")\n",
    "experiment = soma.open(SOMA_PATH, mode=\"r\")\n",
    "print(\"✓ Database opened successfully\")"
   ]
  },
  {
   "cell_type": "markdown",
   "metadata": {},
   "source": [
    "## Test 1: Total Cells in Database"
   ]
  },
  {
   "cell_type": "code",
   "execution_count": null,
   "metadata": {},
   "outputs": [],
   "source": [
    "print(\"Counting total cells...\")\n",
    "obs_count_df = experiment.obs.read(column_names=[\"soma_joinid\"]).concat().to_pandas()\n",
    "total_cells = len(obs_count_df)\n",
    "print(f\"Total cells in database: {total_cells:,}\")\n",
    "del obs_count_df"
   ]
  },
  {
   "cell_type": "markdown",
   "metadata": {},
   "source": [
    "## Test 2: Sample Data Structure"
   ]
  },
  {
   "cell_type": "code",
   "execution_count": null,
   "metadata": {},
   "outputs": [],
   "source": [
    "print(\"Reading first 10 cells...\")\n",
    "obs_sample = experiment.obs.read(coords=(slice(10),)).concat().to_pandas()\n",
    "print(f\"\\nColumns available:\")\n",
    "print(obs_sample.columns.tolist())\n",
    "print(f\"\\nFirst 3 cells:\")\n",
    "obs_sample.head(3)"
   ]
  },
  {
   "cell_type": "markdown",
   "metadata": {},
   "source": [
    "## Test 3: Assay Distribution"
   ]
  },
  {
   "cell_type": "code",
   "execution_count": null,
   "metadata": {},
   "outputs": [],
   "source": [
    "print(\"Reading assay column...\")\n",
    "obs_assay = experiment.obs.read(column_names=[\"assay\"]).concat().to_pandas()\n",
    "assay_counts = obs_assay['assay'].value_counts()\n",
    "\n",
    "print(f\"\\nAssay distribution (top 10):\")\n",
    "print(assay_counts.head(10))\n",
    "\n",
    "if \"10x 3' v3\" in assay_counts.index:\n",
    "    v3_count = assay_counts[\"10x 3' v3\"]\n",
    "    print(f\"\\n✓ Found '10x 3' v3' assay: {v3_count:,} cells\")\n",
    "else:\n",
    "    print(f\"\\n❌ WARNING: '10x 3' v3' assay NOT found!\")\n",
    "\n",
    "del obs_assay"
   ]
  },
  {
   "cell_type": "markdown",
   "metadata": {},
   "source": [
    "## Test 4: Primary Data Distribution"
   ]
  },
  {
   "cell_type": "code",
   "execution_count": null,
   "metadata": {},
   "outputs": [],
   "source": [
    "print(\"Reading is_primary_data column...\")\n",
    "obs_primary = experiment.obs.read(column_names=[\"is_primary_data\"]).concat().to_pandas()\n",
    "primary_counts = obs_primary['is_primary_data'].value_counts()\n",
    "\n",
    "print(f\"\\nis_primary_data distribution:\")\n",
    "print(primary_counts)\n",
    "\n",
    "if True in primary_counts.index:\n",
    "    primary_true_count = primary_counts[True]\n",
    "    print(f\"\\n✓ Primary data cells: {primary_true_count:,}\")\n",
    "\n",
    "del obs_primary"
   ]
  },
  {
   "cell_type": "markdown",
   "metadata": {},
   "source": [
    "## Test 5: Query Cells WITHOUT Gene Filter"
   ]
  },
  {
   "cell_type": "code",
   "execution_count": null,
   "metadata": {},
   "outputs": [],
   "source": [
    "print(\"=\"*80)\n",
    "print(\"QUERYING CELLS WITHOUT GENE FILTER\")\n",
    "print(\"=\"*80)\n",
    "\n",
    "obs_filter = 'assay == \"10x 3\\' v3\" and is_primary_data == True'\n",
    "print(f\"Cell filter: {obs_filter}\")\n",
    "\n",
    "with experiment.axis_query(\n",
    "    measurement_name=\"RNA\",\n",
    "    obs_query=soma.AxisQuery(value_filter=obs_filter),\n",
    ") as query:\n",
    "    obs_df = query.obs(column_names=[\"cell_type_ontology_term_id\"]).concat().to_pandas()\n",
    "    count_without_gene_filter = len(obs_df)\n",
    "    \n",
    "    print(f\"\\n✓ Cells found: {count_without_gene_filter:,}\")\n",
    "    \n",
    "    # Check cell type distribution\n",
    "    unique_cell_types = obs_df['cell_type_ontology_term_id'].nunique()\n",
    "    print(f\"  Unique cell types: {unique_cell_types}\")\n",
    "    \n",
    "    cell_type_counts = obs_df['cell_type_ontology_term_id'].value_counts()\n",
    "    print(f\"\\n  Top 10 cell types:\")\n",
    "    print(cell_type_counts.head(10))\n",
    "    \n",
    "    # Cell types with >5000 cells\n",
    "    over_5k = cell_type_counts[cell_type_counts > 5000]\n",
    "    print(f\"\\n  Cell types with >5000 cells: {len(over_5k)}\")"
   ]
  },
  {
   "cell_type": "markdown",
   "metadata": {},
   "source": [
    "## Test 6: Query Cells WITH Gene Filter (Like Training Notebook)"
   ]
  },
  {
   "cell_type": "code",
   "execution_count": null,
   "metadata": {},
   "outputs": [],
   "source": [
    "print(\"=\"*80)\n",
    "print(\"QUERYING CELLS WITH GENE FILTER (protein-coding genes)\")\n",
    "print(\"=\"*80)\n",
    "\n",
    "# Load the gene list\n",
    "biomart_path = Path.home() / \"real_McCell/hpc_workaround/data/mart_export.txt\"\n",
    "biomart = pd.read_csv(biomart_path)\n",
    "coding_only = biomart[biomart['Gene type'] == 'protein_coding']\n",
    "gene_list = coding_only['Gene stable ID'].tolist()\n",
    "\n",
    "print(f\"Filtering to {len(gene_list)} protein-coding genes\")\n",
    "\n",
    "var_filter = f\"feature_id in {gene_list}\"\n",
    "\n",
    "with experiment.axis_query(\n",
    "    measurement_name=\"RNA\",\n",
    "    obs_query=soma.AxisQuery(value_filter=obs_filter),\n",
    "    var_query=soma.AxisQuery(value_filter=var_filter),\n",
    ") as query:\n",
    "    obs_df = query.obs(column_names=[\"cell_type_ontology_term_id\"]).concat().to_pandas()\n",
    "    count_with_gene_filter = len(obs_df)\n",
    "    \n",
    "    print(f\"\\n✓ Cells found: {count_with_gene_filter:,}\")\n",
    "    \n",
    "    unique_cell_types = obs_df['cell_type_ontology_term_id'].nunique()\n",
    "    print(f\"  Unique cell types: {unique_cell_types}\")"
   ]
  },
  {
   "cell_type": "markdown",
   "metadata": {},
   "source": [
    "## Summary: Is the Gene Filter the Problem?"
   ]
  },
  {
   "cell_type": "code",
   "execution_count": null,
   "metadata": {},
   "outputs": [],
   "source": [
    "print(\"=\"*80)\n",
    "print(\"SUMMARY\")\n",
    "print(\"=\"*80)\n",
    "print(f\"Cells WITHOUT gene filter: {count_without_gene_filter:,}\")\n",
    "print(f\"Cells WITH gene filter:    {count_with_gene_filter:,}\")\n",
    "print(f\"Difference:                {count_without_gene_filter - count_with_gene_filter:,}\")\n",
    "print(f\"Reduction:                 {(1 - count_with_gene_filter/count_without_gene_filter)*100:.1f}%\")\n",
    "\n",
    "if count_with_gene_filter < count_without_gene_filter * 0.1:\n",
    "    print(\"\\n⚠️  CONFIRMED: The gene filter is drastically reducing cell count!\")\n",
    "    print(\"   The SOMA database contains sparse data.\")\n",
    "    print(\"   Not all cells have measurements for all protein-coding genes.\")\n",
    "    print(\"\\n💡 SOLUTION:\")\n",
    "    print(\"   - Remove var_query filter when querying cells\")\n",
    "    print(\"   - Let the dataloader handle gene filtering/selection\")\n",
    "    print(\"   - Or use only highly variable genes (HVGs) that are commonly measured\")\n",
    "else:\n",
    "    print(\"\\n✓ Gene filter does not significantly reduce cell count\")\n",
    "    print(\"   The issue must be elsewhere.\")"
   ]
  },
  {
   "cell_type": "code",
   "execution_count": null,
   "metadata": {},
   "outputs": [],
   "source": [
    "# Cleanup\n",
    "experiment.close()\n",
    "print(\"\\n✓ Database closed\")"
   ]
  }
 ],
 "metadata": {
  "kernelspec": {
   "display_name": "Python 3",
   "language": "python",
   "name": "python3"
  },
  "language_info": {
   "codemirror_mode": {
    "name": "ipython",
    "version": 3
   },
   "file_extension": ".py",
   "mimetype": "text/x-python",
   "name": "python",
   "nbconvert_exporter": "python",
   "pygments_lexer": "ipython3",
   "version": "3.9.0"
  }
 },
 "nbformat": 4,
 "nbformat_minor": 4
}
